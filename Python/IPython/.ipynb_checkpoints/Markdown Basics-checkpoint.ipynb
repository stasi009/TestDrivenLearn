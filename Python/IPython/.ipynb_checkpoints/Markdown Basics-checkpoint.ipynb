{
 "metadata": {
  "name": "",
  "signature": "sha256:fd84893988a4d851d2c4e913bf7dd5fce1f4361dbecc809bf21ea557628fdd80"
 },
 "nbformat": 3,
 "nbformat_minor": 0,
 "worksheets": [
  {
   "cells": [
    {
     "cell_type": "markdown",
     "metadata": {},
     "source": [
      "# The largest heading\n",
      "## The second largest heading\n",
      "###### The 6th largest heading"
     ]
    },
    {
     "cell_type": "markdown",
     "metadata": {},
     "source": [
      "* _italic_\n",
      "* **bold**\n",
      "* **_both italic and bold_**"
     ]
    },
    {
     "cell_type": "markdown",
     "metadata": {},
     "source": [
      "## bullets\n",
      "* item 1\n",
      "    - sub item 1.1\n",
      "    - sub item 1.2\n",
      "* item 2\n",
      "    - sub item 2.1\n",
      "        - sub item 2.1.1\n",
      "* item 3"
     ]
    },
    {
     "cell_type": "markdown",
     "metadata": {},
     "source": [
      "##numbering\n",
      "1. item 1\n",
      "    1. sub item \n",
      "    2. sub item\n",
      "2. item 2\n",
      "    1. sub item\n",
      "        1. sub-sub item\n",
      "3. item 3\n",
      "4. item 4"
     ]
    },
    {
     "cell_type": "heading",
     "level": 2,
     "metadata": {},
     "source": [
      "HTML"
     ]
    },
    {
     "cell_type": "markdown",
     "metadata": {},
     "source": [
      "<table>\n",
      "<tr>\n",
      "<th>Header 1</th>\n",
      "<th>Header 2</th>\n",
      "</tr>\n",
      "<tr>\n",
      "<td>row 1, cell 1</td>\n",
      "<td>row 1, cell 2</td>\n",
      "</tr>\n",
      "<tr>\n",
      "<td>row 2, cell 1</td>\n",
      "<td>row 2, cell 2</td>\n",
      "</tr>\n",
      "</table>"
     ]
    },
    {
     "cell_type": "heading",
     "level": 2,
     "metadata": {},
     "source": [
      "Text Color"
     ]
    },
    {
     "cell_type": "markdown",
     "metadata": {},
     "source": [
      "Roses are <span style=\"color:red\">**red**</span>, violets are <span style=\"color:blue\">**blue**</span>."
     ]
    },
    {
     "cell_type": "markdown",
     "metadata": {},
     "source": [
      "[another article introducing Markdown Cells](Markdown Cells.ipynb)"
     ]
    },
    {
     "cell_type": "code",
     "collapsed": false,
     "input": [],
     "language": "python",
     "metadata": {},
     "outputs": []
    }
   ],
   "metadata": {}
  }
 ]
}