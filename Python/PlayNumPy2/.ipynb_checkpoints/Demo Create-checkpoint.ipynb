{
 "metadata": {
  "name": "",
  "signature": "sha256:93d8e4f9cbe3c900f4419f96d816ab09923f548d26961f8422f2745ee3b961de"
 },
 "nbformat": 3,
 "nbformat_minor": 0,
 "worksheets": [
  {
   "cells": [
    {
     "cell_type": "code",
     "collapsed": false,
     "input": [
      "%pylab inline\n",
      "import numpy as np"
     ],
     "language": "python",
     "metadata": {},
     "outputs": [
      {
       "output_type": "stream",
       "stream": "stdout",
       "text": [
        "Populating the interactive namespace from numpy and matplotlib\n"
       ]
      }
     ],
     "prompt_number": 1
    },
    {
     "cell_type": "markdown",
     "metadata": {},
     "source": [
      "## Index"
     ]
    },
    {
     "cell_type": "markdown",
     "metadata": {},
     "source": [
      "### tile\n",
      "The np.tile function allows one to construct an array from a smaller array by repeating it several times on the basis of a parameter"
     ]
    },
    {
     "cell_type": "code",
     "collapsed": false,
     "input": [
      "a = np.array([[1,2],[6,7]])\n",
      "np.tile(a,3) # repeat along column direction"
     ],
     "language": "python",
     "metadata": {},
     "outputs": [
      {
       "metadata": {},
       "output_type": "pyout",
       "prompt_number": 2,
       "text": [
        "array([[1, 2, 1, 2, 1, 2],\n",
        "       [6, 7, 6, 7, 6, 7]])"
       ]
      }
     ],
     "prompt_number": 2
    },
    {
     "cell_type": "code",
     "collapsed": false,
     "input": [
      "np.tile(a,(3,2))# repeat along rows 3 times, and repeat along columns 2 times"
     ],
     "language": "python",
     "metadata": {},
     "outputs": [
      {
       "metadata": {},
       "output_type": "pyout",
       "prompt_number": 4,
       "text": [
        "array([[1, 2, 1, 2],\n",
        "       [6, 7, 6, 7],\n",
        "       [1, 2, 1, 2],\n",
        "       [6, 7, 6, 7],\n",
        "       [1, 2, 1, 2],\n",
        "       [6, 7, 6, 7]])"
       ]
      }
     ],
     "prompt_number": 4
    },
    {
     "cell_type": "code",
     "collapsed": false,
     "input": [],
     "language": "python",
     "metadata": {},
     "outputs": []
    }
   ],
   "metadata": {}
  }
 ]
}