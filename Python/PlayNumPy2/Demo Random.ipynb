{
 "metadata": {
  "name": "",
  "signature": "sha256:02f8cf03055d023a2dc72dc8a67b8f29ddde50ee42acf367a5a5e2035dd20e8d"
 },
 "nbformat": 3,
 "nbformat_minor": 0,
 "worksheets": [
  {
   "cells": [
    {
     "cell_type": "code",
     "collapsed": false,
     "input": [
      "%pylab inline\n",
      "import numpy as np"
     ],
     "language": "python",
     "metadata": {},
     "outputs": [
      {
       "output_type": "stream",
       "stream": "stdout",
       "text": [
        "Populating the interactive namespace from numpy and matplotlib\n"
       ]
      }
     ],
     "prompt_number": 1
    },
    {
     "cell_type": "code",
     "collapsed": false,
     "input": [
      "# randomly generate an array of 10 integers between 0 and 25.\n",
      "np.random.random_integers(0,25,10)"
     ],
     "language": "python",
     "metadata": {},
     "outputs": [
      {
       "metadata": {},
       "output_type": "pyout",
       "prompt_number": 3,
       "text": [
        "array([16, 24, 15, 20, 15, 19, 15, 22, 10, 22])"
       ]
      }
     ],
     "prompt_number": 3
    },
    {
     "cell_type": "markdown",
     "metadata": {},
     "source": [
      "### the difference between randint and randome_integers are just whether include the \"high\"\n",
      "* randint exclude the higher bound\n",
      "* random_integer include the higher bound"
     ]
    },
    {
     "cell_type": "code",
     "collapsed": false,
     "input": [],
     "language": "python",
     "metadata": {},
     "outputs": []
    }
   ],
   "metadata": {}
  }
 ]
}