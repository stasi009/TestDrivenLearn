{
 "metadata": {
  "name": "",
  "signature": "sha256:7a43ee4eb74616aadbdc9bb5a85bcfd28ca63ca69c6c85d0ce1ae29da8e0468b"
 },
 "nbformat": 3,
 "nbformat_minor": 0,
 "worksheets": [
  {
   "cells": [
    {
     "cell_type": "markdown",
     "metadata": {},
     "source": [
      "* ###[single ndarray in binary format](#single_binary)\n",
      "* ###[multiple ndarray in binary format](#multiple_binary)\n",
      "* ###[single ndarray in text format](#single_txt)"
     ]
    },
    {
     "cell_type": "code",
     "collapsed": false,
     "input": [
      "%pylab inline"
     ],
     "language": "python",
     "metadata": {},
     "outputs": [
      {
       "output_type": "stream",
       "stream": "stdout",
       "text": [
        "Populating the interactive namespace from numpy and matplotlib\n"
       ]
      }
     ],
     "prompt_number": 1
    },
    {
     "cell_type": "heading",
     "level": 2,
     "metadata": {},
     "source": [
      "<a id=\"single_binary\"></a>\n",
      "<span style=\"color:seagreen\">single ndarray in disk in binary foramt</span>"
     ]
    },
    {
     "cell_type": "markdown",
     "metadata": {},
     "source": [
      "1. use np.save, give it a name. if that name isn't end in \".npy\", it will automatically add the extension\n",
      "2. use np.load, and pass in the filename"
     ]
    },
    {
     "cell_type": "code",
     "collapsed": false,
     "input": [
      "arr = np.arange(10)\n",
      "np.save(\"single_array\",arr)# the extension will automatically be added\n",
      "np.load(\"single_array.npy\")# need to specify the extension"
     ],
     "language": "python",
     "metadata": {},
     "outputs": [
      {
       "metadata": {},
       "output_type": "pyout",
       "prompt_number": 2,
       "text": [
        "array([0, 1, 2, 3, 4, 5, 6, 7, 8, 9])"
       ]
      }
     ],
     "prompt_number": 2
    },
    {
     "cell_type": "heading",
     "level": 2,
     "metadata": {},
     "source": [
      "<a id=\"multiple_binary\"></a>\n",
      "<span style=\"color:seagreen\">multiple ndarray in disk in binary format</span>"
     ]
    },
    {
     "cell_type": "markdown",
     "metadata": {},
     "source": [
      "1. You save multiple arrays in a zip archive using **np.savez** and passing the arrays as keyword arguments\n",
      "2. When loading an .npz file, there is **no \"loadz\"** function. you just call **\"np.load\"** function, you get back a dict-like object which loads the individual arrays <span style=color:red>**lazily**</span>"
     ]
    },
    {
     "cell_type": "code",
     "collapsed": false,
     "input": [
      "arr1 = np.arange(6).reshape(3,2)\n",
      "arr2 = np.arange(9).reshape(3,3)\n",
      "np.savez(\"multiple_arrays\",first=arr1,second=arr2)\n",
      "archive = np.load(\"multiple_arrays.npz\")"
     ],
     "language": "python",
     "metadata": {},
     "outputs": [],
     "prompt_number": 3
    },
    {
     "cell_type": "code",
     "collapsed": false,
     "input": [
      "archive[\"first\"]"
     ],
     "language": "python",
     "metadata": {},
     "outputs": [
      {
       "metadata": {},
       "output_type": "pyout",
       "prompt_number": 4,
       "text": [
        "array([[0, 1],\n",
        "       [2, 3],\n",
        "       [4, 5]])"
       ]
      }
     ],
     "prompt_number": 4
    },
    {
     "cell_type": "code",
     "collapsed": false,
     "input": [
      "archive[\"second\"]"
     ],
     "language": "python",
     "metadata": {},
     "outputs": [
      {
       "metadata": {},
       "output_type": "pyout",
       "prompt_number": 5,
       "text": [
        "array([[0, 1, 2],\n",
        "       [3, 4, 5],\n",
        "       [6, 7, 8]])"
       ]
      }
     ],
     "prompt_number": 5
    },
    {
     "cell_type": "heading",
     "level": 2,
     "metadata": {},
     "source": [
      "<a id=\"single_txt\"></a>\n",
      "<span style=\"color:navy\">single ndarray in disk in CSV foramt</span>"
     ]
    },
    {
     "cell_type": "code",
     "collapsed": false,
     "input": [
      "arr = np.asarray([[1.11111111111111,2.222222222,3.333333333],\n",
      "                  [4.44444444,5.555555555555,6.66666666666]])\n",
      "np.savetxt(\"single_array.txt\",arr,delimiter=\",\")"
     ],
     "language": "python",
     "metadata": {},
     "outputs": [],
     "prompt_number": 9
    },
    {
     "cell_type": "code",
     "collapsed": false,
     "input": [
      "np.loadtxt(\"single_array.txt\",delimiter=\",\")"
     ],
     "language": "python",
     "metadata": {},
     "outputs": [
      {
       "metadata": {},
       "output_type": "pyout",
       "prompt_number": 10,
       "text": [
        "array([[ 1.11111111,  2.22222222,  3.33333333],\n",
        "       [ 4.44444444,  5.55555556,  6.66666667]])"
       ]
      }
     ],
     "prompt_number": 10
    },
    {
     "cell_type": "code",
     "collapsed": false,
     "input": [],
     "language": "python",
     "metadata": {},
     "outputs": []
    }
   ],
   "metadata": {}
  }
 ]
}