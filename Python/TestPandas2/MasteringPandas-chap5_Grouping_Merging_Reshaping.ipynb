{
 "cells": [
  {
   "cell_type": "code",
   "execution_count": 2,
   "metadata": {
    "collapsed": true
   },
   "outputs": [],
   "source": [
    "import numpy as np\n",
    "import pandas as pd"
   ]
  },
  {
   "cell_type": "markdown",
   "metadata": {},
   "source": [
    "<h1>Grouping of Data</h1>"
   ]
  },
  {
   "cell_type": "markdown",
   "metadata": {},
   "source": [
    "<h2>groupby Operation</h2>"
   ]
  },
  {
   "cell_type": "markdown",
   "metadata": {},
   "source": [
    "<b>Read in and examine data </b>"
   ]
  },
  {
   "cell_type": "code",
   "execution_count": 5,
   "metadata": {
    "collapsed": false
   },
   "outputs": [],
   "source": [
    "uefaDF=pd.read_csv('./data/euro_winners.csv')"
   ]
  },
  {
   "cell_type": "code",
   "execution_count": 6,
   "metadata": {
    "collapsed": false
   },
   "outputs": [
    {
     "data": {
      "text/html": [
       "<div style=\"max-height:1000px;max-width:1500px;overflow:auto;\">\n",
       "<table border=\"1\" class=\"dataframe\">\n",
       "  <thead>\n",
       "    <tr style=\"text-align: right;\">\n",
       "      <th></th>\n",
       "      <th>Season</th>\n",
       "      <th>Nation</th>\n",
       "      <th>Winners</th>\n",
       "      <th>Score</th>\n",
       "      <th>Runners-up</th>\n",
       "      <th>Runner-UpNation</th>\n",
       "      <th>Venue</th>\n",
       "      <th>Attendance</th>\n",
       "    </tr>\n",
       "  </thead>\n",
       "  <tbody>\n",
       "    <tr>\n",
       "      <th>0</th>\n",
       "      <td> 1955–56</td>\n",
       "      <td> Spain</td>\n",
       "      <td> Real Madrid</td>\n",
       "      <td> 4–3</td>\n",
       "      <td>      Stade de Reims</td>\n",
       "      <td>  France</td>\n",
       "      <td>            Parc des Princes,Paris</td>\n",
       "      <td>  38239</td>\n",
       "    </tr>\n",
       "    <tr>\n",
       "      <th>1</th>\n",
       "      <td> 1956–57</td>\n",
       "      <td> Spain</td>\n",
       "      <td> Real Madrid</td>\n",
       "      <td> 2–0</td>\n",
       "      <td>          Fiorentina</td>\n",
       "      <td>   Italy</td>\n",
       "      <td> Santiago Bernabéu Stadium, Madrid</td>\n",
       "      <td> 124000</td>\n",
       "    </tr>\n",
       "    <tr>\n",
       "      <th>2</th>\n",
       "      <td> 1957–58</td>\n",
       "      <td> Spain</td>\n",
       "      <td> Real Madrid</td>\n",
       "      <td> 3–2</td>\n",
       "      <td>               Milan</td>\n",
       "      <td>   Italy</td>\n",
       "      <td>           Heysel Stadium,Brussels</td>\n",
       "      <td>  67000</td>\n",
       "    </tr>\n",
       "    <tr>\n",
       "      <th>3</th>\n",
       "      <td> 1958–59</td>\n",
       "      <td> Spain</td>\n",
       "      <td> Real Madrid</td>\n",
       "      <td> 2–0</td>\n",
       "      <td>      Stade de Reims</td>\n",
       "      <td>  France</td>\n",
       "      <td>           Neckarstadion,Stuttgart</td>\n",
       "      <td>  72000</td>\n",
       "    </tr>\n",
       "    <tr>\n",
       "      <th>4</th>\n",
       "      <td> 1959–60</td>\n",
       "      <td> Spain</td>\n",
       "      <td> Real Madrid</td>\n",
       "      <td> 7–3</td>\n",
       "      <td> Eintracht Frankfurt</td>\n",
       "      <td> Germany</td>\n",
       "      <td>              Hampden Park,Glasgow</td>\n",
       "      <td> 127621</td>\n",
       "    </tr>\n",
       "  </tbody>\n",
       "</table>\n",
       "</div>"
      ],
      "text/plain": [
       "    Season Nation      Winners Score           Runners-up Runner-UpNation  \\\n",
       "0  1955–56  Spain  Real Madrid   4–3       Stade de Reims          France   \n",
       "1  1956–57  Spain  Real Madrid   2–0           Fiorentina           Italy   \n",
       "2  1957–58  Spain  Real Madrid   3–2                Milan           Italy   \n",
       "3  1958–59  Spain  Real Madrid   2–0       Stade de Reims          France   \n",
       "4  1959–60  Spain  Real Madrid   7–3  Eintracht Frankfurt         Germany   \n",
       "\n",
       "                               Venue  Attendance  \n",
       "0             Parc des Princes,Paris       38239  \n",
       "1  Santiago Bernabéu Stadium, Madrid      124000  \n",
       "2            Heysel Stadium,Brussels       67000  \n",
       "3            Neckarstadion,Stuttgart       72000  \n",
       "4               Hampden Park,Glasgow      127621  "
      ]
     },
     "execution_count": 6,
     "metadata": {},
     "output_type": "execute_result"
    }
   ],
   "source": [
    "uefaDF.head()"
   ]
  },
  {
   "cell_type": "markdown",
   "metadata": {},
   "source": [
    "<b>Rank nations by number of club championships</b>"
   ]
  },
  {
   "cell_type": "code",
   "execution_count": 8,
   "metadata": {
    "collapsed": false
   },
   "outputs": [
    {
     "data": {
      "text/plain": [
       "pandas.core.groupby.DataFrameGroupBy"
      ]
     },
     "execution_count": 8,
     "metadata": {},
     "output_type": "execute_result"
    }
   ],
   "source": [
    "nationsGrp =uefaDF.groupby('Nation')\n",
    "type(nationsGrp)"
   ]
  },
  {
   "cell_type": "code",
   "execution_count": 9,
   "metadata": {
    "collapsed": false
   },
   "outputs": [
    {
     "data": {
      "text/plain": [
       "{'England': [12, 21, 22, 23, 24, 25, 26, 28, 43, 49, 52, 56],\n",
       " 'France': [37],\n",
       " 'Germany': [18, 19, 20, 27, 41, 45, 57],\n",
       " 'Italy': [7, 8, 9, 13, 29, 33, 34, 38, 40, 47, 51, 54],\n",
       " 'Netherlands': [14, 15, 16, 17, 32, 39],\n",
       " 'Portugal': [5, 6, 31, 48],\n",
       " 'Romania': [30],\n",
       " 'Scotland': [11],\n",
       " 'Spain': [0, 1, 2, 3, 4, 10, 36, 42, 44, 46, 50, 53, 55],\n",
       " 'Yugoslavia': [35]}"
      ]
     },
     "execution_count": 9,
     "metadata": {},
     "output_type": "execute_result"
    }
   ],
   "source": [
    "nationsGrp.groups"
   ]
  },
  {
   "cell_type": "markdown",
   "metadata": {},
   "source": [
    "<b>Obtain number of groups</b>"
   ]
  },
  {
   "cell_type": "code",
   "execution_count": 10,
   "metadata": {
    "collapsed": false
   },
   "outputs": [
    {
     "data": {
      "text/plain": [
       "10"
      ]
     },
     "execution_count": 10,
     "metadata": {},
     "output_type": "execute_result"
    }
   ],
   "source": [
    "len(nationsGrp.groups)"
   ]
  },
  {
   "cell_type": "markdown",
   "metadata": {},
   "source": [
    "<b>Display the number of wins by each nation in descending order:</b>"
   ]
  },
  {
   "cell_type": "code",
   "execution_count": 11,
   "metadata": {
    "collapsed": true
   },
   "outputs": [],
   "source": [
    "nationWins=nationsGrp.size()"
   ]
  },
  {
   "cell_type": "code",
   "execution_count": 12,
   "metadata": {
    "collapsed": false
   },
   "outputs": [
    {
     "data": {
      "text/plain": [
       "Nation\n",
       "Spain          13\n",
       "Italy          12\n",
       "England        12\n",
       "Germany         7\n",
       "Netherlands     6\n",
       "Portugal        4\n",
       "Yugoslavia      1\n",
       "Scotland        1\n",
       "Romania         1\n",
       "France          1\n",
       "dtype: int64"
      ]
     },
     "execution_count": 12,
     "metadata": {},
     "output_type": "execute_result"
    }
   ],
   "source": [
    "nationWins.sort(ascending=False);nationWins"
   ]
  },
  {
   "cell_type": "markdown",
   "metadata": {},
   "source": []
  },
  {
   "cell_type": "code",
   "execution_count": 14,
   "metadata": {
    "collapsed": false
   },
   "outputs": [
    {
     "data": {
      "text/plain": [
       "Nation       Winners          \n",
       "Spain        Real Madrid          9\n",
       "Italy        Milan                7\n",
       "Germany      Bayern Munich        5\n",
       "England      Liverpool            5\n",
       "Spain        Barcelona            4\n",
       "Netherlands  Ajax                 4\n",
       "England      Manchester United    3\n",
       "Italy        Internazionale       3\n",
       "             Juventus             2\n",
       "Portugal     Porto                2\n",
       "             Benfica              2\n",
       "England      Nottingham Forest    2\n",
       "             Chelsea              1\n",
       "France       Marseille            1\n",
       "Yugoslavia   Red Star Belgrade    1\n",
       "Germany      Borussia Dortmund    1\n",
       "             Hamburg              1\n",
       "Netherlands  Feyenoord            1\n",
       "             PSV Eindhoven        1\n",
       "Romania      Steaua Bucure?ti     1\n",
       "Scotland     Celtic               1\n",
       "England      Aston Villa          1\n",
       "dtype: int64"
      ]
     },
     "execution_count": 14,
     "metadata": {},
     "output_type": "execute_result"
    }
   ],
   "source": [
    "winnersGrp=uefaDF.groupby(['Nation','Winners'])\n",
    "clubWins=winnersGrp.size()\n",
    "clubWins.sort(ascending=False)\n",
    "clubWins\n"
   ]
  },
  {
   "cell_type": "markdown",
   "metadata": {},
   "source": [
    "<b>Read in goal stats dataset</b>"
   ]
  },
  {
   "cell_type": "code",
   "execution_count": 17,
   "metadata": {
    "collapsed": true
   },
   "outputs": [],
   "source": [
    "goalStatsDF=pd.read_csv('./data/goal_stats_euro_leagues_2012-13.csv')\n",
    "goalStatsDF=goalStatsDF.set_index('Month')\n"
   ]
  },
  {
   "cell_type": "markdown",
   "metadata": {},
   "source": [
    "<b>Snapshot of dataset:</b>"
   ]
  },
  {
   "cell_type": "code",
   "execution_count": 18,
   "metadata": {
    "collapsed": false
   },
   "outputs": [
    {
     "data": {
      "text/html": [
       "<div style=\"max-height:1000px;max-width:1500px;overflow:auto;\">\n",
       "<table border=\"1\" class=\"dataframe\">\n",
       "  <thead>\n",
       "    <tr style=\"text-align: right;\">\n",
       "      <th></th>\n",
       "      <th>Stat</th>\n",
       "      <th>EPL</th>\n",
       "      <th>La Liga</th>\n",
       "      <th>Serie A</th>\n",
       "      <th>Bundesliga</th>\n",
       "    </tr>\n",
       "    <tr>\n",
       "      <th>Month</th>\n",
       "      <th></th>\n",
       "      <th></th>\n",
       "      <th></th>\n",
       "      <th></th>\n",
       "      <th></th>\n",
       "    </tr>\n",
       "  </thead>\n",
       "  <tbody>\n",
       "    <tr>\n",
       "      <th>08/01/2012</th>\n",
       "      <td> MatchesPlayed</td>\n",
       "      <td> 20</td>\n",
       "      <td> 20</td>\n",
       "      <td> 10</td>\n",
       "      <td> 10</td>\n",
       "    </tr>\n",
       "    <tr>\n",
       "      <th>09/01/2012</th>\n",
       "      <td> MatchesPlayed</td>\n",
       "      <td> 38</td>\n",
       "      <td> 39</td>\n",
       "      <td> 50</td>\n",
       "      <td> 44</td>\n",
       "    </tr>\n",
       "    <tr>\n",
       "      <th>10/01/2012</th>\n",
       "      <td> MatchesPlayed</td>\n",
       "      <td> 31</td>\n",
       "      <td> 31</td>\n",
       "      <td> 39</td>\n",
       "      <td> 27</td>\n",
       "    </tr>\n",
       "  </tbody>\n",
       "</table>\n",
       "</div>"
      ],
      "text/plain": [
       "                     Stat  EPL  La Liga  Serie A  Bundesliga\n",
       "Month                                                       \n",
       "08/01/2012  MatchesPlayed   20       20       10          10\n",
       "09/01/2012  MatchesPlayed   38       39       50          44\n",
       "10/01/2012  MatchesPlayed   31       31       39          27"
      ]
     },
     "execution_count": 18,
     "metadata": {},
     "output_type": "execute_result"
    }
   ],
   "source": [
    "goalStatsDF.head(3)\n"
   ]
  },
  {
   "cell_type": "code",
   "execution_count": 19,
   "metadata": {
    "collapsed": false
   },
   "outputs": [
    {
     "data": {
      "text/html": [
       "<div style=\"max-height:1000px;max-width:1500px;overflow:auto;\">\n",
       "<table border=\"1\" class=\"dataframe\">\n",
       "  <thead>\n",
       "    <tr style=\"text-align: right;\">\n",
       "      <th></th>\n",
       "      <th>Stat</th>\n",
       "      <th>EPL</th>\n",
       "      <th>La Liga</th>\n",
       "      <th>Serie A</th>\n",
       "      <th>Bundesliga</th>\n",
       "    </tr>\n",
       "    <tr>\n",
       "      <th>Month</th>\n",
       "      <th></th>\n",
       "      <th></th>\n",
       "      <th></th>\n",
       "      <th></th>\n",
       "      <th></th>\n",
       "    </tr>\n",
       "  </thead>\n",
       "  <tbody>\n",
       "    <tr>\n",
       "      <th>04/01/2013</th>\n",
       "      <td> GoalsScored</td>\n",
       "      <td> 105</td>\n",
       "      <td> 127</td>\n",
       "      <td> 102</td>\n",
       "      <td> 104</td>\n",
       "    </tr>\n",
       "    <tr>\n",
       "      <th>05/01/2013</th>\n",
       "      <td> GoalsScored</td>\n",
       "      <td>  96</td>\n",
       "      <td> 109</td>\n",
       "      <td> 102</td>\n",
       "      <td>  92</td>\n",
       "    </tr>\n",
       "    <tr>\n",
       "      <th>06/01/2013</th>\n",
       "      <td> GoalsScored</td>\n",
       "      <td> NaN</td>\n",
       "      <td>  80</td>\n",
       "      <td> NaN</td>\n",
       "      <td> NaN</td>\n",
       "    </tr>\n",
       "  </tbody>\n",
       "</table>\n",
       "</div>"
      ],
      "text/plain": [
       "                   Stat  EPL  La Liga  Serie A  Bundesliga\n",
       "Month                                                     \n",
       "04/01/2013  GoalsScored  105      127      102         104\n",
       "05/01/2013  GoalsScored   96      109      102          92\n",
       "06/01/2013  GoalsScored  NaN       80      NaN         NaN"
      ]
     },
     "execution_count": 19,
     "metadata": {},
     "output_type": "execute_result"
    }
   ],
   "source": [
    "goalStatsDF.tail(3)"
   ]
  },
  {
   "cell_type": "markdown",
   "metadata": {},
   "source": [
    "<b>Display the stats, but by grouped year instead. </b>"
   ]
  },
  {
   "cell_type": "code",
   "execution_count": null,
   "metadata": {
    "collapsed": true
   },
   "outputs": [],
   "source": [
    "goalStatsGroupedByYear = goalStatsDF.groupby(lambda Month: Month.split('/')[2])\n"
   ]
  },
  {
   "cell_type": "code",
   "execution_count": 23,
   "metadata": {
    "collapsed": false
   },
   "outputs": [
    {
     "name": "stdout",
     "output_type": "stream",
     "text": [
      "2012\n",
      "                     Stat  EPL  La Liga  Serie A  Bundesliga\n",
      "Month                                                       \n",
      "08/01/2012  MatchesPlayed   20       20       10          10\n",
      "09/01/2012  MatchesPlayed   38       39       50          44\n",
      "10/01/2012  MatchesPlayed   31       31       39          27\n",
      "11/01/2012  MatchesPlayed   50       41       42          46\n",
      "12/01/2012  MatchesPlayed   59       39       39          26\n",
      "08/01/2012    GoalsScored   57       60       21          23\n",
      "09/01/2012    GoalsScored  111      112      133         135\n",
      "10/01/2012    GoalsScored   95       88       97          77\n",
      "11/01/2012    GoalsScored  121      116      120         137\n",
      "12/01/2012    GoalsScored  183      109      125          72\n",
      "2013\n",
      "                     Stat  EPL  La Liga  Serie A  Bundesliga\n",
      "Month                                                       \n",
      "01/01/2013  MatchesPlayed   42       40       40          18\n",
      "02/01/2013  MatchesPlayed   30       40       40          36\n",
      "03/01/2013  MatchesPlayed   35       38       39          36\n",
      "04/01/2013  MatchesPlayed   42       42       41          36\n",
      "05/01/2013  MatchesPlayed   33       40       40          27\n",
      "06/02/2013  MatchesPlayed  NaN       10      NaN         NaN\n",
      "01/01/2013    GoalsScored  117      121      104          51\n",
      "02/01/2013    GoalsScored   87      110      100         101\n",
      "03/01/2013    GoalsScored   91      101       99         106\n",
      "04/01/2013    GoalsScored  105      127      102         104\n",
      "05/01/2013    GoalsScored   96      109      102          92\n",
      "06/01/2013    GoalsScored  NaN       80      NaN         NaN\n"
     ]
    }
   ],
   "source": [
    "for name, group in goalStatsGroupedByYear:\n",
    "    \t      print name\n",
    "    \t      print group\n"
   ]
  },
  {
   "cell_type": "markdown",
   "metadata": {},
   "source": [
    "<b>Group by individual month using level arg:</b>"
   ]
  },
  {
   "cell_type": "code",
   "execution_count": 24,
   "metadata": {
    "collapsed": true
   },
   "outputs": [],
   "source": [
    "goalStatsGroupedByMonth = goalStatsDF.groupby(level=0)"
   ]
  },
  {
   "cell_type": "code",
   "execution_count": 28,
   "metadata": {
    "collapsed": false
   },
   "outputs": [
    {
     "name": "stdout",
     "output_type": "stream",
     "text": [
      "                     Stat  EPL  La Liga  Serie A  Bundesliga\n",
      "Month                                                       \n",
      "01/01/2013  MatchesPlayed   42       40       40          18\n",
      "01/01/2013    GoalsScored  117      121      104          51\n",
      "\n",
      "\n",
      "                     Stat  EPL  La Liga  Serie A  Bundesliga\n",
      "Month                                                       \n",
      "02/01/2013  MatchesPlayed   30       40       40          36\n",
      "02/01/2013    GoalsScored   87      110      100         101\n",
      "\n",
      "\n",
      "                     Stat  EPL  La Liga  Serie A  Bundesliga\n",
      "Month                                                       \n",
      "03/01/2013  MatchesPlayed   35       38       39          36\n",
      "03/01/2013    GoalsScored   91      101       99         106\n",
      "\n",
      "\n",
      "                     Stat  EPL  La Liga  Serie A  Bundesliga\n",
      "Month                                                       \n",
      "04/01/2013  MatchesPlayed   42       42       41          36\n",
      "04/01/2013    GoalsScored  105      127      102         104\n",
      "\n",
      "\n",
      "                     Stat  EPL  La Liga  Serie A  Bundesliga\n",
      "Month                                                       \n",
      "05/01/2013  MatchesPlayed   33       40       40          27\n",
      "05/01/2013    GoalsScored   96      109      102          92\n",
      "\n",
      "\n",
      "                   Stat  EPL  La Liga  Serie A  Bundesliga\n",
      "Month                                                     \n",
      "06/01/2013  GoalsScored  NaN       80      NaN         NaN\n",
      "\n",
      "\n",
      "                     Stat  EPL  La Liga  Serie A  Bundesliga\n",
      "Month                                                       \n",
      "06/02/2013  MatchesPlayed  NaN       10      NaN         NaN\n",
      "\n",
      "\n",
      "                     Stat  EPL  La Liga  Serie A  Bundesliga\n",
      "Month                                                       \n",
      "08/01/2012  MatchesPlayed   20       20       10          10\n",
      "08/01/2012    GoalsScored   57       60       21          23\n",
      "\n",
      "\n",
      "                     Stat  EPL  La Liga  Serie A  Bundesliga\n",
      "Month                                                       \n",
      "09/01/2012  MatchesPlayed   38       39       50          44\n",
      "09/01/2012    GoalsScored  111      112      133         135\n",
      "\n",
      "\n",
      "                     Stat  EPL  La Liga  Serie A  Bundesliga\n",
      "Month                                                       \n",
      "10/01/2012  MatchesPlayed   31       31       39          27\n",
      "10/01/2012    GoalsScored   95       88       97          77\n",
      "\n",
      "\n",
      "                     Stat  EPL  La Liga  Serie A  Bundesliga\n",
      "Month                                                       \n",
      "11/01/2012  MatchesPlayed   50       41       42          46\n",
      "11/01/2012    GoalsScored  121      116      120         137\n",
      "\n",
      "\n",
      "                     Stat  EPL  La Liga  Serie A  Bundesliga\n",
      "Month                                                       \n",
      "12/01/2012  MatchesPlayed   59       39       39          26\n",
      "12/01/2012    GoalsScored  183      109      125          72\n",
      "\n",
      "\n"
     ]
    }
   ],
   "source": [
    "for name, group in goalStatsGroupedByMonth:\n",
    "    #print name \n",
    "    print group\n",
    "    print \"\\n\"\n"
   ]
  },
  {
   "cell_type": "markdown",
   "metadata": {},
   "source": [
    "<b>group by multiple keys:</b>"
   ]
  },
  {
   "cell_type": "code",
   "execution_count": 39,
   "metadata": {
    "collapsed": false
   },
   "outputs": [],
   "source": [
    "goalStatsDF=goalStatsDF.reset_index()\n",
    "goalStatsDF=goalStatsDF.set_index(['Month','Stat'])\n",
    "\n",
    "\n"
   ]
  },
  {
   "cell_type": "code",
   "execution_count": 41,
   "metadata": {
    "collapsed": false
   },
   "outputs": [
    {
     "name": "stdout",
     "output_type": "stream",
     "text": [
      "('01/01/2013', 'GoalsScored')\n",
      "                        level_0  index  EPL  La Liga  Serie A  Bundesliga\n",
      "Month      Stat                                                          \n",
      "01/01/2013 GoalsScored       16     16  117      121      104          51\n",
      "('01/01/2013', 'MatchesPlayed')\n",
      "                          level_0  index  EPL  La Liga  Serie A  Bundesliga\n",
      "Month      Stat                                                            \n",
      "01/01/2013 MatchesPlayed        5      5   42       40       40          18\n",
      "('02/01/2013', 'GoalsScored')\n",
      "                        level_0  index  EPL  La Liga  Serie A  Bundesliga\n",
      "Month      Stat                                                          \n",
      "02/01/2013 GoalsScored       17     17   87      110      100         101\n",
      "('02/01/2013', 'MatchesPlayed')\n",
      "                          level_0  index  EPL  La Liga  Serie A  Bundesliga\n",
      "Month      Stat                                                            \n",
      "02/01/2013 MatchesPlayed        6      6   30       40       40          36\n",
      "('03/01/2013', 'GoalsScored')\n",
      "                        level_0  index  EPL  La Liga  Serie A  Bundesliga\n",
      "Month      Stat                                                          \n",
      "03/01/2013 GoalsScored       18     18   91      101       99         106\n",
      "('03/01/2013', 'MatchesPlayed')\n",
      "                          level_0  index  EPL  La Liga  Serie A  Bundesliga\n",
      "Month      Stat                                                            \n",
      "03/01/2013 MatchesPlayed        7      7   35       38       39          36\n",
      "('04/01/2013', 'GoalsScored')\n",
      "                        level_0  index  EPL  La Liga  Serie A  Bundesliga\n",
      "Month      Stat                                                          \n",
      "04/01/2013 GoalsScored       19     19  105      127      102         104\n",
      "('04/01/2013', 'MatchesPlayed')\n",
      "                          level_0  index  EPL  La Liga  Serie A  Bundesliga\n",
      "Month      Stat                                                            \n",
      "04/01/2013 MatchesPlayed        8      8   42       42       41          36\n",
      "('05/01/2013', 'GoalsScored')\n",
      "                        level_0  index  EPL  La Liga  Serie A  Bundesliga\n",
      "Month      Stat                                                          \n",
      "05/01/2013 GoalsScored       20     20   96      109      102          92\n",
      "('05/01/2013', 'MatchesPlayed')\n",
      "                          level_0  index  EPL  La Liga  Serie A  Bundesliga\n",
      "Month      Stat                                                            \n",
      "05/01/2013 MatchesPlayed        9      9   33       40       40          27\n",
      "('06/01/2013', 'GoalsScored')\n",
      "                        level_0  index  EPL  La Liga  Serie A  Bundesliga\n",
      "Month      Stat                                                          \n",
      "06/01/2013 GoalsScored       21     21  NaN       80      NaN         NaN\n",
      "('06/02/2013', 'MatchesPlayed')\n",
      "                          level_0  index  EPL  La Liga  Serie A  Bundesliga\n",
      "Month      Stat                                                            \n",
      "06/02/2013 MatchesPlayed       10     10  NaN       10      NaN         NaN\n",
      "('08/01/2012', 'GoalsScored')\n",
      "                        level_0  index  EPL  La Liga  Serie A  Bundesliga\n",
      "Month      Stat                                                          \n",
      "08/01/2012 GoalsScored       11     11   57       60       21          23\n",
      "('08/01/2012', 'MatchesPlayed')\n",
      "                          level_0  index  EPL  La Liga  Serie A  Bundesliga\n",
      "Month      Stat                                                            \n",
      "08/01/2012 MatchesPlayed        0      0   20       20       10          10\n",
      "('09/01/2012', 'GoalsScored')\n",
      "                        level_0  index  EPL  La Liga  Serie A  Bundesliga\n",
      "Month      Stat                                                          \n",
      "09/01/2012 GoalsScored       12     12  111      112      133         135\n",
      "('09/01/2012', 'MatchesPlayed')\n",
      "                          level_0  index  EPL  La Liga  Serie A  Bundesliga\n",
      "Month      Stat                                                            \n",
      "09/01/2012 MatchesPlayed        1      1   38       39       50          44\n",
      "('10/01/2012', 'GoalsScored')\n",
      "                        level_0  index  EPL  La Liga  Serie A  Bundesliga\n",
      "Month      Stat                                                          \n",
      "10/01/2012 GoalsScored       13     13   95       88       97          77\n",
      "('10/01/2012', 'MatchesPlayed')\n",
      "                          level_0  index  EPL  La Liga  Serie A  Bundesliga\n",
      "Month      Stat                                                            \n",
      "10/01/2012 MatchesPlayed        2      2   31       31       39          27\n",
      "('11/01/2012', 'GoalsScored')\n",
      "                        level_0  index  EPL  La Liga  Serie A  Bundesliga\n",
      "Month      Stat                                                          \n",
      "11/01/2012 GoalsScored       14     14  121      116      120         137\n",
      "('11/01/2012', 'MatchesPlayed')\n",
      "                          level_0  index  EPL  La Liga  Serie A  Bundesliga\n",
      "Month      Stat                                                            \n",
      "11/01/2012 MatchesPlayed        3      3   50       41       42          46\n",
      "('12/01/2012', 'GoalsScored')\n",
      "                        level_0  index  EPL  La Liga  Serie A  Bundesliga\n",
      "Month      Stat                                                          \n",
      "12/01/2012 GoalsScored       15     15  183      109      125          72\n",
      "('12/01/2012', 'MatchesPlayed')\n",
      "                          level_0  index  EPL  La Liga  Serie A  Bundesliga\n",
      "Month      Stat                                                            \n",
      "12/01/2012 MatchesPlayed        4      4   59       39       39          26\n"
     ]
    }
   ],
   "source": [
    "monthStatGroup=goalStatsDF.groupby(level=['Month','Stat'])\n",
    "for name, group in monthStatGroup:\n",
    "          print name\n",
    "          print group\n"
   ]
  },
  {
   "cell_type": "markdown",
   "metadata": {},
   "source": [
    "<h3>Using groupby with a MultiIndex</h3>"
   ]
  },
  {
   "cell_type": "markdown",
   "metadata": {},
   "source": [
    "<b>Read in the goal stats DataFrame again:</b>"
   ]
  },
  {
   "cell_type": "code",
   "execution_count": 43,
   "metadata": {
    "collapsed": false
   },
   "outputs": [],
   "source": [
    "goalStatsDF3=pd.read_csv('./data/goal_stats_euro_leagues_2012-13.csv')\n",
    "goalStatsDF3=goalStatsDF3.set_index(['Month','Stat'])\n"
   ]
  },
  {
   "cell_type": "code",
   "execution_count": 53,
   "metadata": {
    "collapsed": false
   },
   "outputs": [
    {
     "name": "stdout",
     "output_type": "stream",
     "text": [
      "                          EPL  La Liga  Serie A  Bundesliga\n",
      "Month      Stat                                            \n",
      "08/01/2012 MatchesPlayed   20       20       10          10\n",
      "09/01/2012 MatchesPlayed   38       39       50          44\n",
      "10/01/2012 MatchesPlayed   31       31       39          27\n",
      "                        EPL  La Liga  Serie A  Bundesliga\n",
      "Month      Stat                                          \n",
      "04/01/2013 GoalsScored  105      127      102         104\n",
      "05/01/2013 GoalsScored   96      109      102          92\n",
      "06/01/2013 GoalsScored  NaN       80      NaN         NaN\n"
     ]
    }
   ],
   "source": [
    "print goalStatsDF3.head(3)\n",
    "print goalStatsDF3.tail(3)"
   ]
  },
  {
   "cell_type": "markdown",
   "metadata": {},
   "source": [
    "<b>Compute the total number of goals scored and total matches played for the entire season for each league.</b>"
   ]
  },
  {
   "cell_type": "code",
   "execution_count": 47,
   "metadata": {
    "collapsed": false
   },
   "outputs": [
    {
     "data": {
      "text/html": [
       "<div style=\"max-height:1000px;max-width:1500px;overflow:auto;\">\n",
       "<table border=\"1\" class=\"dataframe\">\n",
       "  <thead>\n",
       "    <tr style=\"text-align: right;\">\n",
       "      <th></th>\n",
       "      <th>EPL</th>\n",
       "      <th>La Liga</th>\n",
       "      <th>Serie A</th>\n",
       "      <th>Bundesliga</th>\n",
       "    </tr>\n",
       "    <tr>\n",
       "      <th>Stat</th>\n",
       "      <th></th>\n",
       "      <th></th>\n",
       "      <th></th>\n",
       "      <th></th>\n",
       "    </tr>\n",
       "  </thead>\n",
       "  <tbody>\n",
       "    <tr>\n",
       "      <th>GoalsScored</th>\n",
       "      <td> 1063</td>\n",
       "      <td> 1133</td>\n",
       "      <td> 1003</td>\n",
       "      <td> 898</td>\n",
       "    </tr>\n",
       "    <tr>\n",
       "      <th>MatchesPlayed</th>\n",
       "      <td>  380</td>\n",
       "      <td>  380</td>\n",
       "      <td>  380</td>\n",
       "      <td> 306</td>\n",
       "    </tr>\n",
       "  </tbody>\n",
       "</table>\n",
       "</div>"
      ],
      "text/plain": [
       "                EPL  La Liga  Serie A  Bundesliga\n",
       "Stat                                             \n",
       "GoalsScored    1063     1133     1003         898\n",
       "MatchesPlayed   380      380      380         306"
      ]
     },
     "execution_count": 47,
     "metadata": {},
     "output_type": "execute_result"
    }
   ],
   "source": [
    "grouped3=goalStatsDF3.groupby(level='Stat')\n",
    "grouped3.sum()"
   ]
  },
  {
   "cell_type": "markdown",
   "metadata": {},
   "source": [
    "<b>Use sum directly but pass level as parameter to achieve same result.</b>"
   ]
  },
  {
   "cell_type": "code",
   "execution_count": 45,
   "metadata": {
    "collapsed": false
   },
   "outputs": [
    {
     "data": {
      "text/html": [
       "<div style=\"max-height:1000px;max-width:1500px;overflow:auto;\">\n",
       "<table border=\"1\" class=\"dataframe\">\n",
       "  <thead>\n",
       "    <tr style=\"text-align: right;\">\n",
       "      <th></th>\n",
       "      <th>EPL</th>\n",
       "      <th>La Liga</th>\n",
       "      <th>Serie A</th>\n",
       "      <th>Bundesliga</th>\n",
       "    </tr>\n",
       "    <tr>\n",
       "      <th>Stat</th>\n",
       "      <th></th>\n",
       "      <th></th>\n",
       "      <th></th>\n",
       "      <th></th>\n",
       "    </tr>\n",
       "  </thead>\n",
       "  <tbody>\n",
       "    <tr>\n",
       "      <th>GoalsScored</th>\n",
       "      <td> 1063</td>\n",
       "      <td> 1133</td>\n",
       "      <td> 1003</td>\n",
       "      <td> 898</td>\n",
       "    </tr>\n",
       "    <tr>\n",
       "      <th>MatchesPlayed</th>\n",
       "      <td>  380</td>\n",
       "      <td>  380</td>\n",
       "      <td>  380</td>\n",
       "      <td> 306</td>\n",
       "    </tr>\n",
       "  </tbody>\n",
       "</table>\n",
       "</div>"
      ],
      "text/plain": [
       "                EPL  La Liga  Serie A  Bundesliga\n",
       "Stat                                             \n",
       "GoalsScored    1063     1133     1003         898\n",
       "MatchesPlayed   380      380      380         306"
      ]
     },
     "execution_count": 45,
     "metadata": {},
     "output_type": "execute_result"
    }
   ],
   "source": [
    "goalStatsDF3.sum(level='Stat')"
   ]
  },
  {
   "cell_type": "markdown",
   "metadata": {},
   "source": [
    "<b>Calculate goals per game ratio</b>:"
   ]
  },
  {
   "cell_type": "code",
   "execution_count": 54,
   "metadata": {
    "collapsed": false
   },
   "outputs": [
    {
     "data": {
      "text/plain": [
       "EPL           2.797368\n",
       "La Liga       2.981579\n",
       "Serie A       2.639474\n",
       "Bundesliga    2.934641\n",
       "dtype: float64"
      ]
     },
     "execution_count": 54,
     "metadata": {},
     "output_type": "execute_result"
    }
   ],
   "source": [
    "totalsDF=grouped3.sum()\n",
    "totalsDF.ix['GoalsScored']/totalsDF.ix['MatchesPlayed']"
   ]
  },
  {
   "cell_type": "code",
   "execution_count": 55,
   "metadata": {
    "collapsed": false
   },
   "outputs": [
    {
     "data": {
      "text/html": [
       "<div style=\"max-height:1000px;max-width:1500px;overflow:auto;\">\n",
       "<table border=\"1\" class=\"dataframe\">\n",
       "  <thead>\n",
       "    <tr style=\"text-align: right;\">\n",
       "      <th></th>\n",
       "      <th>EPL</th>\n",
       "      <th>La Liga</th>\n",
       "      <th>Serie A</th>\n",
       "      <th>Bundesliga</th>\n",
       "    </tr>\n",
       "  </thead>\n",
       "  <tbody>\n",
       "    <tr>\n",
       "      <th>0</th>\n",
       "      <td> 2.797368</td>\n",
       "      <td> 2.981579</td>\n",
       "      <td> 2.639474</td>\n",
       "      <td> 2.934641</td>\n",
       "    </tr>\n",
       "  </tbody>\n",
       "</table>\n",
       "</div>"
      ],
      "text/plain": [
       "        EPL   La Liga   Serie A  Bundesliga\n",
       "0  2.797368  2.981579  2.639474    2.934641"
      ]
     },
     "execution_count": 55,
     "metadata": {},
     "output_type": "execute_result"
    }
   ],
   "source": [
    "gpg=totalsDF.ix['GoalsScored']/totalsDF.ix['MatchesPlayed']\n",
    "goalsPerGameDF=pd.DataFrame(gpg).T\n",
    "goalsPerGameDF"
   ]
  },
  {
   "cell_type": "code",
   "execution_count": 56,
   "metadata": {
    "collapsed": false
   },
   "outputs": [
    {
     "data": {
      "text/html": [
       "<div style=\"max-height:1000px;max-width:1500px;overflow:auto;\">\n",
       "<table border=\"1\" class=\"dataframe\">\n",
       "  <thead>\n",
       "    <tr style=\"text-align: right;\">\n",
       "      <th></th>\n",
       "      <th>EPL</th>\n",
       "      <th>La Liga</th>\n",
       "      <th>Serie A</th>\n",
       "      <th>Bundesliga</th>\n",
       "    </tr>\n",
       "  </thead>\n",
       "  <tbody>\n",
       "    <tr>\n",
       "      <th>GoalsPerGame</th>\n",
       "      <td> 2.797368</td>\n",
       "      <td> 2.981579</td>\n",
       "      <td> 2.639474</td>\n",
       "      <td> 2.934641</td>\n",
       "    </tr>\n",
       "  </tbody>\n",
       "</table>\n",
       "</div>"
      ],
      "text/plain": [
       "                   EPL   La Liga   Serie A  Bundesliga\n",
       "GoalsPerGame  2.797368  2.981579  2.639474    2.934641"
      ]
     },
     "execution_count": 56,
     "metadata": {},
     "output_type": "execute_result"
    }
   ],
   "source": [
    "goalsPerGameDF=goalsPerGameDF.rename(index={0:'GoalsPerGame'}) \n",
    "goalsPerGameDF"
   ]
  },
  {
   "cell_type": "markdown",
   "metadata": {},
   "source": [
    "<b>Format and append goalsPerGameDF to original DataFrame:</b>"
   ]
  },
  {
   "cell_type": "code",
   "execution_count": 57,
   "metadata": {
    "collapsed": false
   },
   "outputs": [
    {
     "data": {
      "text/html": [
       "<div style=\"max-height:1000px;max-width:1500px;overflow:auto;\">\n",
       "<table border=\"1\" class=\"dataframe\">\n",
       "  <thead>\n",
       "    <tr style=\"text-align: right;\">\n",
       "      <th></th>\n",
       "      <th>EPL</th>\n",
       "      <th>La Liga</th>\n",
       "      <th>Serie A</th>\n",
       "      <th>Bundesliga</th>\n",
       "    </tr>\n",
       "  </thead>\n",
       "  <tbody>\n",
       "    <tr>\n",
       "      <th>GoalsScored</th>\n",
       "      <td>1063.00</td>\n",
       "      <td>1133.00</td>\n",
       "      <td>1003.00</td>\n",
       "      <td>898.00</td>\n",
       "    </tr>\n",
       "    <tr>\n",
       "      <th>MatchesPlayed</th>\n",
       "      <td> 380.00</td>\n",
       "      <td> 380.00</td>\n",
       "      <td> 380.00</td>\n",
       "      <td>306.00</td>\n",
       "    </tr>\n",
       "    <tr>\n",
       "      <th>GoalsPerGame</th>\n",
       "      <td>   2.80</td>\n",
       "      <td>   2.98</td>\n",
       "      <td>   2.64</td>\n",
       "      <td>  2.93</td>\n",
       "    </tr>\n",
       "  </tbody>\n",
       "</table>\n",
       "</div>"
      ],
      "text/plain": [
       "                  EPL  La Liga  Serie A  Bundesliga\n",
       "GoalsScored   1063.00  1133.00  1003.00      898.00\n",
       "MatchesPlayed  380.00   380.00   380.00      306.00\n",
       "GoalsPerGame     2.80     2.98     2.64        2.93"
      ]
     },
     "execution_count": 57,
     "metadata": {},
     "output_type": "execute_result"
    }
   ],
   "source": [
    "pd.options.display.float_format='{:.2f}'.format \n",
    "totalsDF.append(goalsPerGameDF)\n"
   ]
  },
  {
   "cell_type": "markdown",
   "metadata": {},
   "source": [
    "<h3>Using the aggregate method</h3>"
   ]
  },
  {
   "cell_type": "code",
   "execution_count": 58,
   "metadata": {
    "collapsed": false
   },
   "outputs": [
    {
     "data": {
      "text/html": [
       "<div style=\"max-height:1000px;max-width:1500px;overflow:auto;\">\n",
       "<table border=\"1\" class=\"dataframe\">\n",
       "  <thead>\n",
       "    <tr style=\"text-align: right;\">\n",
       "      <th></th>\n",
       "      <th>EPL</th>\n",
       "      <th>La Liga</th>\n",
       "      <th>Serie A</th>\n",
       "      <th>Bundesliga</th>\n",
       "    </tr>\n",
       "    <tr>\n",
       "      <th>Stat</th>\n",
       "      <th></th>\n",
       "      <th></th>\n",
       "      <th></th>\n",
       "      <th></th>\n",
       "    </tr>\n",
       "  </thead>\n",
       "  <tbody>\n",
       "    <tr>\n",
       "      <th>GoalsScored</th>\n",
       "      <td> 1063</td>\n",
       "      <td> 1133</td>\n",
       "      <td> 1003</td>\n",
       "      <td> 898</td>\n",
       "    </tr>\n",
       "    <tr>\n",
       "      <th>MatchesPlayed</th>\n",
       "      <td>  380</td>\n",
       "      <td>  380</td>\n",
       "      <td>  380</td>\n",
       "      <td> 306</td>\n",
       "    </tr>\n",
       "  </tbody>\n",
       "</table>\n",
       "</div>"
      ],
      "text/plain": [
       "                EPL  La Liga  Serie A  Bundesliga\n",
       "Stat                                             \n",
       "GoalsScored    1063     1133     1003         898\n",
       "MatchesPlayed   380      380      380         306"
      ]
     },
     "execution_count": 58,
     "metadata": {},
     "output_type": "execute_result"
    }
   ],
   "source": [
    "pd.options.display.float_format=None\n",
    "grouped3.aggregate(np.sum)"
   ]
  },
  {
   "cell_type": "markdown",
   "metadata": {},
   "source": [
    "<h3>Applying multiple functions</h3>"
   ]
  },
  {
   "cell_type": "markdown",
   "metadata": {},
   "source": [
    "<b>Specify list of functions to be applied to each column:</b>"
   ]
  },
  {
   "cell_type": "code",
   "execution_count": 60,
   "metadata": {
    "collapsed": false
   },
   "outputs": [
    {
     "data": {
      "text/html": [
       "<div style=\"max-height:1000px;max-width:1500px;overflow:auto;\">\n",
       "<table border=\"1\" class=\"dataframe\">\n",
       "  <thead>\n",
       "    <tr>\n",
       "      <th></th>\n",
       "      <th colspan=\"3\" halign=\"left\">EPL</th>\n",
       "      <th colspan=\"3\" halign=\"left\">La Liga</th>\n",
       "      <th colspan=\"3\" halign=\"left\">Serie A</th>\n",
       "      <th colspan=\"3\" halign=\"left\">Bundesliga</th>\n",
       "    </tr>\n",
       "    <tr>\n",
       "      <th></th>\n",
       "      <th>sum</th>\n",
       "      <th>mean</th>\n",
       "      <th>size</th>\n",
       "      <th>sum</th>\n",
       "      <th>mean</th>\n",
       "      <th>size</th>\n",
       "      <th>sum</th>\n",
       "      <th>mean</th>\n",
       "      <th>size</th>\n",
       "      <th>sum</th>\n",
       "      <th>mean</th>\n",
       "      <th>size</th>\n",
       "    </tr>\n",
       "    <tr>\n",
       "      <th>Stat</th>\n",
       "      <th></th>\n",
       "      <th></th>\n",
       "      <th></th>\n",
       "      <th></th>\n",
       "      <th></th>\n",
       "      <th></th>\n",
       "      <th></th>\n",
       "      <th></th>\n",
       "      <th></th>\n",
       "      <th></th>\n",
       "      <th></th>\n",
       "      <th></th>\n",
       "    </tr>\n",
       "  </thead>\n",
       "  <tbody>\n",
       "    <tr>\n",
       "      <th>GoalsScored</th>\n",
       "      <td> 1063</td>\n",
       "      <td> 106.3</td>\n",
       "      <td> 11</td>\n",
       "      <td> 1133</td>\n",
       "      <td> 103.000000</td>\n",
       "      <td> 11</td>\n",
       "      <td> 1003</td>\n",
       "      <td> 100.3</td>\n",
       "      <td> 11</td>\n",
       "      <td> 898</td>\n",
       "      <td> 89.8</td>\n",
       "      <td> 11</td>\n",
       "    </tr>\n",
       "    <tr>\n",
       "      <th>MatchesPlayed</th>\n",
       "      <td>  380</td>\n",
       "      <td>  38.0</td>\n",
       "      <td> 11</td>\n",
       "      <td>  380</td>\n",
       "      <td>  34.545455</td>\n",
       "      <td> 11</td>\n",
       "      <td>  380</td>\n",
       "      <td>  38.0</td>\n",
       "      <td> 11</td>\n",
       "      <td> 306</td>\n",
       "      <td> 30.6</td>\n",
       "      <td> 11</td>\n",
       "    </tr>\n",
       "  </tbody>\n",
       "</table>\n",
       "</div>"
      ],
      "text/plain": [
       "                EPL               La Liga                    Serie A         \\\n",
       "                sum   mean  size      sum        mean  size      sum   mean   \n",
       "Stat                                                                          \n",
       "GoalsScored    1063  106.3    11     1133  103.000000    11     1003  100.3   \n",
       "MatchesPlayed   380   38.0    11      380   34.545455    11      380   38.0   \n",
       "\n",
       "                     Bundesliga              \n",
       "               size         sum  mean  size  \n",
       "Stat                                         \n",
       "GoalsScored      11         898  89.8    11  \n",
       "MatchesPlayed    11         306  30.6    11  "
      ]
     },
     "execution_count": 60,
     "metadata": {},
     "output_type": "execute_result"
    }
   ],
   "source": [
    "grouped3.aggregate([np.sum, np.mean,np.size])"
   ]
  },
  {
   "cell_type": "markdown",
   "metadata": {},
   "source": [
    "<b>Grouped Series</b>"
   ]
  },
  {
   "cell_type": "code",
   "execution_count": 61,
   "metadata": {
    "collapsed": false
   },
   "outputs": [
    {
     "data": {
      "text/html": [
       "<div style=\"max-height:1000px;max-width:1500px;overflow:auto;\">\n",
       "<table border=\"1\" class=\"dataframe\">\n",
       "  <thead>\n",
       "    <tr style=\"text-align: right;\">\n",
       "      <th></th>\n",
       "      <th>Deviation</th>\n",
       "      <th>Average</th>\n",
       "      <th>Total</th>\n",
       "    </tr>\n",
       "    <tr>\n",
       "      <th>Nation</th>\n",
       "      <th></th>\n",
       "      <th></th>\n",
       "      <th></th>\n",
       "    </tr>\n",
       "  </thead>\n",
       "  <tbody>\n",
       "    <tr>\n",
       "      <th>England</th>\n",
       "      <td> 17091.309877</td>\n",
       "      <td> 66534.250000</td>\n",
       "      <td> 798411</td>\n",
       "    </tr>\n",
       "    <tr>\n",
       "      <th>France</th>\n",
       "      <td>          NaN</td>\n",
       "      <td> 64400.000000</td>\n",
       "      <td>  64400</td>\n",
       "    </tr>\n",
       "    <tr>\n",
       "      <th>Germany</th>\n",
       "      <td> 13783.830076</td>\n",
       "      <td> 67583.285714</td>\n",
       "      <td> 473083</td>\n",
       "    </tr>\n",
       "    <tr>\n",
       "      <th>Italy</th>\n",
       "      <td> 17443.516494</td>\n",
       "      <td> 65761.250000</td>\n",
       "      <td> 789135</td>\n",
       "    </tr>\n",
       "    <tr>\n",
       "      <th>Netherlands</th>\n",
       "      <td> 16048.580972</td>\n",
       "      <td> 67489.000000</td>\n",
       "      <td> 404934</td>\n",
       "    </tr>\n",
       "    <tr>\n",
       "      <th>Portugal</th>\n",
       "      <td> 15632.863259</td>\n",
       "      <td> 49635.500000</td>\n",
       "      <td> 198542</td>\n",
       "    </tr>\n",
       "    <tr>\n",
       "      <th>Romania</th>\n",
       "      <td>          NaN</td>\n",
       "      <td> 70000.000000</td>\n",
       "      <td>  70000</td>\n",
       "    </tr>\n",
       "    <tr>\n",
       "      <th>Scotland</th>\n",
       "      <td>          NaN</td>\n",
       "      <td> 45000.000000</td>\n",
       "      <td>  45000</td>\n",
       "    </tr>\n",
       "    <tr>\n",
       "      <th>Spain</th>\n",
       "      <td> 27457.531064</td>\n",
       "      <td> 73477.153846</td>\n",
       "      <td> 955203</td>\n",
       "    </tr>\n",
       "    <tr>\n",
       "      <th>Yugoslavia</th>\n",
       "      <td>          NaN</td>\n",
       "      <td> 56000.000000</td>\n",
       "      <td>  56000</td>\n",
       "    </tr>\n",
       "  </tbody>\n",
       "</table>\n",
       "</div>"
      ],
      "text/plain": [
       "                Deviation       Average   Total\n",
       "Nation                                         \n",
       "England      17091.309877  66534.250000  798411\n",
       "France                NaN  64400.000000   64400\n",
       "Germany      13783.830076  67583.285714  473083\n",
       "Italy        17443.516494  65761.250000  789135\n",
       "Netherlands  16048.580972  67489.000000  404934\n",
       "Portugal     15632.863259  49635.500000  198542\n",
       "Romania               NaN  70000.000000   70000\n",
       "Scotland              NaN  45000.000000   45000\n",
       "Spain        27457.531064  73477.153846  955203\n",
       "Yugoslavia            NaN  56000.000000   56000"
      ]
     },
     "execution_count": 61,
     "metadata": {},
     "output_type": "execute_result"
    }
   ],
   "source": [
    "nationsGrp['Attendance'].agg({'Total':np.sum, 'Average':np.mean, 'Deviation':np.std})"
   ]
  },
  {
   "cell_type": "markdown",
   "metadata": {},
   "source": [
    "<h3>The transform( ) method</h3>"
   ]
  },
  {
   "cell_type": "code",
   "execution_count": 72,
   "metadata": {
    "collapsed": false
   },
   "outputs": [
    {
     "data": {
      "text/html": [
       "<div style=\"max-height:1000px;max-width:1500px;overflow:auto;\">\n",
       "<table border=\"1\" class=\"dataframe\">\n",
       "  <thead>\n",
       "    <tr style=\"text-align: right;\">\n",
       "      <th></th>\n",
       "      <th></th>\n",
       "      <th>level_0</th>\n",
       "      <th>index</th>\n",
       "      <th>EPL</th>\n",
       "      <th>La Liga</th>\n",
       "      <th>Serie A</th>\n",
       "      <th>Bundesliga</th>\n",
       "    </tr>\n",
       "    <tr>\n",
       "      <th>Month</th>\n",
       "      <th>Stat</th>\n",
       "      <th></th>\n",
       "      <th></th>\n",
       "      <th></th>\n",
       "      <th></th>\n",
       "      <th></th>\n",
       "      <th></th>\n",
       "    </tr>\n",
       "  </thead>\n",
       "  <tbody>\n",
       "    <tr>\n",
       "      <th>08/01/2012</th>\n",
       "      <th>MatchesPlayed</th>\n",
       "      <td>  0</td>\n",
       "      <td>  0</td>\n",
       "      <td>  20</td>\n",
       "      <td>  20</td>\n",
       "      <td>  10</td>\n",
       "      <td>  10</td>\n",
       "    </tr>\n",
       "    <tr>\n",
       "      <th>09/01/2012</th>\n",
       "      <th>MatchesPlayed</th>\n",
       "      <td>  1</td>\n",
       "      <td>  1</td>\n",
       "      <td>  38</td>\n",
       "      <td>  39</td>\n",
       "      <td>  50</td>\n",
       "      <td>  44</td>\n",
       "    </tr>\n",
       "    <tr>\n",
       "      <th>10/01/2012</th>\n",
       "      <th>MatchesPlayed</th>\n",
       "      <td>  2</td>\n",
       "      <td>  2</td>\n",
       "      <td>  31</td>\n",
       "      <td>  31</td>\n",
       "      <td>  39</td>\n",
       "      <td>  27</td>\n",
       "    </tr>\n",
       "    <tr>\n",
       "      <th>11/01/2012</th>\n",
       "      <th>MatchesPlayed</th>\n",
       "      <td>  3</td>\n",
       "      <td>  3</td>\n",
       "      <td>  50</td>\n",
       "      <td>  41</td>\n",
       "      <td>  42</td>\n",
       "      <td>  46</td>\n",
       "    </tr>\n",
       "    <tr>\n",
       "      <th>12/01/2012</th>\n",
       "      <th>MatchesPlayed</th>\n",
       "      <td>  4</td>\n",
       "      <td>  4</td>\n",
       "      <td>  59</td>\n",
       "      <td>  39</td>\n",
       "      <td>  39</td>\n",
       "      <td>  26</td>\n",
       "    </tr>\n",
       "    <tr>\n",
       "      <th>01/01/2013</th>\n",
       "      <th>MatchesPlayed</th>\n",
       "      <td>  5</td>\n",
       "      <td>  5</td>\n",
       "      <td>  42</td>\n",
       "      <td>  40</td>\n",
       "      <td>  40</td>\n",
       "      <td>  18</td>\n",
       "    </tr>\n",
       "    <tr>\n",
       "      <th>02/01/2013</th>\n",
       "      <th>MatchesPlayed</th>\n",
       "      <td>  6</td>\n",
       "      <td>  6</td>\n",
       "      <td>  30</td>\n",
       "      <td>  40</td>\n",
       "      <td>  40</td>\n",
       "      <td>  36</td>\n",
       "    </tr>\n",
       "    <tr>\n",
       "      <th>03/01/2013</th>\n",
       "      <th>MatchesPlayed</th>\n",
       "      <td>  7</td>\n",
       "      <td>  7</td>\n",
       "      <td>  35</td>\n",
       "      <td>  38</td>\n",
       "      <td>  39</td>\n",
       "      <td>  36</td>\n",
       "    </tr>\n",
       "    <tr>\n",
       "      <th>04/01/2013</th>\n",
       "      <th>MatchesPlayed</th>\n",
       "      <td>  8</td>\n",
       "      <td>  8</td>\n",
       "      <td>  42</td>\n",
       "      <td>  42</td>\n",
       "      <td>  41</td>\n",
       "      <td>  36</td>\n",
       "    </tr>\n",
       "    <tr>\n",
       "      <th>05/01/2013</th>\n",
       "      <th>MatchesPlayed</th>\n",
       "      <td>  9</td>\n",
       "      <td>  9</td>\n",
       "      <td>  33</td>\n",
       "      <td>  40</td>\n",
       "      <td>  40</td>\n",
       "      <td>  27</td>\n",
       "    </tr>\n",
       "    <tr>\n",
       "      <th>06/02/2013</th>\n",
       "      <th>MatchesPlayed</th>\n",
       "      <td> 10</td>\n",
       "      <td> 10</td>\n",
       "      <td> NaN</td>\n",
       "      <td>  10</td>\n",
       "      <td> NaN</td>\n",
       "      <td> NaN</td>\n",
       "    </tr>\n",
       "    <tr>\n",
       "      <th>08/01/2012</th>\n",
       "      <th>GoalsScored</th>\n",
       "      <td> 11</td>\n",
       "      <td> 11</td>\n",
       "      <td>  57</td>\n",
       "      <td>  60</td>\n",
       "      <td>  21</td>\n",
       "      <td>  23</td>\n",
       "    </tr>\n",
       "    <tr>\n",
       "      <th>09/01/2012</th>\n",
       "      <th>GoalsScored</th>\n",
       "      <td> 12</td>\n",
       "      <td> 12</td>\n",
       "      <td> 111</td>\n",
       "      <td> 112</td>\n",
       "      <td> 133</td>\n",
       "      <td> 135</td>\n",
       "    </tr>\n",
       "    <tr>\n",
       "      <th>10/01/2012</th>\n",
       "      <th>GoalsScored</th>\n",
       "      <td> 13</td>\n",
       "      <td> 13</td>\n",
       "      <td>  95</td>\n",
       "      <td>  88</td>\n",
       "      <td>  97</td>\n",
       "      <td>  77</td>\n",
       "    </tr>\n",
       "    <tr>\n",
       "      <th>11/01/2012</th>\n",
       "      <th>GoalsScored</th>\n",
       "      <td> 14</td>\n",
       "      <td> 14</td>\n",
       "      <td> 121</td>\n",
       "      <td> 116</td>\n",
       "      <td> 120</td>\n",
       "      <td> 137</td>\n",
       "    </tr>\n",
       "    <tr>\n",
       "      <th>12/01/2012</th>\n",
       "      <th>GoalsScored</th>\n",
       "      <td> 15</td>\n",
       "      <td> 15</td>\n",
       "      <td> 183</td>\n",
       "      <td> 109</td>\n",
       "      <td> 125</td>\n",
       "      <td>  72</td>\n",
       "    </tr>\n",
       "    <tr>\n",
       "      <th>01/01/2013</th>\n",
       "      <th>GoalsScored</th>\n",
       "      <td> 16</td>\n",
       "      <td> 16</td>\n",
       "      <td> 117</td>\n",
       "      <td> 121</td>\n",
       "      <td> 104</td>\n",
       "      <td>  51</td>\n",
       "    </tr>\n",
       "    <tr>\n",
       "      <th>02/01/2013</th>\n",
       "      <th>GoalsScored</th>\n",
       "      <td> 17</td>\n",
       "      <td> 17</td>\n",
       "      <td>  87</td>\n",
       "      <td> 110</td>\n",
       "      <td> 100</td>\n",
       "      <td> 101</td>\n",
       "    </tr>\n",
       "    <tr>\n",
       "      <th>03/01/2013</th>\n",
       "      <th>GoalsScored</th>\n",
       "      <td> 18</td>\n",
       "      <td> 18</td>\n",
       "      <td>  91</td>\n",
       "      <td> 101</td>\n",
       "      <td>  99</td>\n",
       "      <td> 106</td>\n",
       "    </tr>\n",
       "    <tr>\n",
       "      <th>04/01/2013</th>\n",
       "      <th>GoalsScored</th>\n",
       "      <td> 19</td>\n",
       "      <td> 19</td>\n",
       "      <td> 105</td>\n",
       "      <td> 127</td>\n",
       "      <td> 102</td>\n",
       "      <td> 104</td>\n",
       "    </tr>\n",
       "    <tr>\n",
       "      <th>05/01/2013</th>\n",
       "      <th>GoalsScored</th>\n",
       "      <td> 20</td>\n",
       "      <td> 20</td>\n",
       "      <td>  96</td>\n",
       "      <td> 109</td>\n",
       "      <td> 102</td>\n",
       "      <td>  92</td>\n",
       "    </tr>\n",
       "    <tr>\n",
       "      <th>06/01/2013</th>\n",
       "      <th>GoalsScored</th>\n",
       "      <td> 21</td>\n",
       "      <td> 21</td>\n",
       "      <td> NaN</td>\n",
       "      <td>  80</td>\n",
       "      <td> NaN</td>\n",
       "      <td> NaN</td>\n",
       "    </tr>\n",
       "  </tbody>\n",
       "</table>\n",
       "</div>"
      ],
      "text/plain": [
       "                          level_0  index  EPL  La Liga  Serie A  Bundesliga\n",
       "Month      Stat                                                            \n",
       "08/01/2012 MatchesPlayed        0      0   20       20       10          10\n",
       "09/01/2012 MatchesPlayed        1      1   38       39       50          44\n",
       "10/01/2012 MatchesPlayed        2      2   31       31       39          27\n",
       "11/01/2012 MatchesPlayed        3      3   50       41       42          46\n",
       "12/01/2012 MatchesPlayed        4      4   59       39       39          26\n",
       "01/01/2013 MatchesPlayed        5      5   42       40       40          18\n",
       "02/01/2013 MatchesPlayed        6      6   30       40       40          36\n",
       "03/01/2013 MatchesPlayed        7      7   35       38       39          36\n",
       "04/01/2013 MatchesPlayed        8      8   42       42       41          36\n",
       "05/01/2013 MatchesPlayed        9      9   33       40       40          27\n",
       "06/02/2013 MatchesPlayed       10     10  NaN       10      NaN         NaN\n",
       "08/01/2012 GoalsScored         11     11   57       60       21          23\n",
       "09/01/2012 GoalsScored         12     12  111      112      133         135\n",
       "10/01/2012 GoalsScored         13     13   95       88       97          77\n",
       "11/01/2012 GoalsScored         14     14  121      116      120         137\n",
       "12/01/2012 GoalsScored         15     15  183      109      125          72\n",
       "01/01/2013 GoalsScored         16     16  117      121      104          51\n",
       "02/01/2013 GoalsScored         17     17   87      110      100         101\n",
       "03/01/2013 GoalsScored         18     18   91      101       99         106\n",
       "04/01/2013 GoalsScored         19     19  105      127      102         104\n",
       "05/01/2013 GoalsScored         20     20   96      109      102          92\n",
       "06/01/2013 GoalsScored         21     21  NaN       80      NaN         NaN"
      ]
     },
     "execution_count": 72,
     "metadata": {},
     "output_type": "execute_result"
    }
   ],
   "source": [
    "goalStatsDF"
   ]
  },
  {
   "cell_type": "markdown",
   "metadata": {},
   "source": [
    "<b>DataFrame of goals scored across 4 Euro leagues 2012-2013</b>"
   ]
  },
  {
   "cell_type": "code",
   "execution_count": 139,
   "metadata": {
    "collapsed": false
   },
   "outputs": [
    {
     "data": {
      "text/html": [
       "<div style=\"max-height:1000px;max-width:1500px;overflow:auto;\">\n",
       "<table border=\"1\" class=\"dataframe\">\n",
       "  <thead>\n",
       "    <tr style=\"text-align: right;\">\n",
       "      <th></th>\n",
       "      <th>EPL</th>\n",
       "      <th>La Liga</th>\n",
       "      <th>Serie A</th>\n",
       "      <th>Bundesliga</th>\n",
       "    </tr>\n",
       "    <tr>\n",
       "      <th>Month</th>\n",
       "      <th></th>\n",
       "      <th></th>\n",
       "      <th></th>\n",
       "      <th></th>\n",
       "    </tr>\n",
       "  </thead>\n",
       "  <tbody>\n",
       "    <tr>\n",
       "      <th>08/01/2012</th>\n",
       "      <td>  57</td>\n",
       "      <td>  60</td>\n",
       "      <td>  21</td>\n",
       "      <td>  23</td>\n",
       "    </tr>\n",
       "    <tr>\n",
       "      <th>09/01/2012</th>\n",
       "      <td> 111</td>\n",
       "      <td> 112</td>\n",
       "      <td> 133</td>\n",
       "      <td> 135</td>\n",
       "    </tr>\n",
       "    <tr>\n",
       "      <th>10/01/2012</th>\n",
       "      <td>  95</td>\n",
       "      <td>  88</td>\n",
       "      <td>  97</td>\n",
       "      <td>  77</td>\n",
       "    </tr>\n",
       "    <tr>\n",
       "      <th>11/01/2012</th>\n",
       "      <td> 121</td>\n",
       "      <td> 116</td>\n",
       "      <td> 120</td>\n",
       "      <td> 137</td>\n",
       "    </tr>\n",
       "    <tr>\n",
       "      <th>12/01/2012</th>\n",
       "      <td> 183</td>\n",
       "      <td> 109</td>\n",
       "      <td> 125</td>\n",
       "      <td>  72</td>\n",
       "    </tr>\n",
       "    <tr>\n",
       "      <th>01/01/2013</th>\n",
       "      <td> 117</td>\n",
       "      <td> 121</td>\n",
       "      <td> 104</td>\n",
       "      <td>  51</td>\n",
       "    </tr>\n",
       "    <tr>\n",
       "      <th>02/01/2013</th>\n",
       "      <td>  87</td>\n",
       "      <td> 110</td>\n",
       "      <td> 100</td>\n",
       "      <td> 101</td>\n",
       "    </tr>\n",
       "    <tr>\n",
       "      <th>03/01/2013</th>\n",
       "      <td>  91</td>\n",
       "      <td> 101</td>\n",
       "      <td>  99</td>\n",
       "      <td> 106</td>\n",
       "    </tr>\n",
       "    <tr>\n",
       "      <th>04/01/2013</th>\n",
       "      <td> 105</td>\n",
       "      <td> 127</td>\n",
       "      <td> 102</td>\n",
       "      <td> 104</td>\n",
       "    </tr>\n",
       "    <tr>\n",
       "      <th>05/01/2013</th>\n",
       "      <td>  96</td>\n",
       "      <td> 109</td>\n",
       "      <td> 102</td>\n",
       "      <td>  92</td>\n",
       "    </tr>\n",
       "    <tr>\n",
       "      <th>06/01/2013</th>\n",
       "      <td> NaN</td>\n",
       "      <td>  80</td>\n",
       "      <td> NaN</td>\n",
       "      <td> NaN</td>\n",
       "    </tr>\n",
       "  </tbody>\n",
       "</table>\n",
       "</div>"
      ],
      "text/plain": [
       "            EPL  La Liga  Serie A  Bundesliga\n",
       "Month                                        \n",
       "08/01/2012   57       60       21          23\n",
       "09/01/2012  111      112      133         135\n",
       "10/01/2012   95       88       97          77\n",
       "11/01/2012  121      116      120         137\n",
       "12/01/2012  183      109      125          72\n",
       "01/01/2013  117      121      104          51\n",
       "02/01/2013   87      110      100         101\n",
       "03/01/2013   91      101       99         106\n",
       "04/01/2013  105      127      102         104\n",
       "05/01/2013   96      109      102          92\n",
       "06/01/2013  NaN       80      NaN         NaN"
      ]
     },
     "execution_count": 139,
     "metadata": {},
     "output_type": "execute_result"
    }
   ],
   "source": [
    "goalStatsDF2=pd.read_csv('./data/goal_stats_euro_leagues_2012-13.csv')\n",
    "goalStatsDF2=goalStatsDF2.set_index(['Month'])\n",
    "goalsScoredDF=goalStatsDF2.ix[goalStatsDF2['Stat']=='GoalsScored']\n",
    "\n",
    "goalsScoredDF.iloc[:,1:]"
   ]
  },
  {
   "cell_type": "markdown",
   "metadata": {},
   "source": [
    "<b>Find mean of goals scored for each league, grouped by year:</b>"
   ]
  },
  {
   "cell_type": "code",
   "execution_count": 117,
   "metadata": {
    "collapsed": false
   },
   "outputs": [
    {
     "data": {
      "text/html": [
       "<div style=\"max-height:1000px;max-width:1500px;overflow:auto;\">\n",
       "<table border=\"1\" class=\"dataframe\">\n",
       "  <thead>\n",
       "    <tr style=\"text-align: right;\">\n",
       "      <th></th>\n",
       "      <th>EPL</th>\n",
       "      <th>La Liga</th>\n",
       "      <th>Serie A</th>\n",
       "      <th>Bundesliga</th>\n",
       "    </tr>\n",
       "  </thead>\n",
       "  <tbody>\n",
       "    <tr>\n",
       "      <th>2012</th>\n",
       "      <td> 113.4</td>\n",
       "      <td>  97</td>\n",
       "      <td>  99.2</td>\n",
       "      <td> 88.8</td>\n",
       "    </tr>\n",
       "    <tr>\n",
       "      <th>2013</th>\n",
       "      <td>  99.2</td>\n",
       "      <td> 108</td>\n",
       "      <td> 101.4</td>\n",
       "      <td> 90.8</td>\n",
       "    </tr>\n",
       "  </tbody>\n",
       "</table>\n",
       "</div>"
      ],
      "text/plain": [
       "        EPL  La Liga  Serie A  Bundesliga\n",
       "2012  113.4       97     99.2        88.8\n",
       "2013   99.2      108    101.4        90.8"
      ]
     },
     "execution_count": 117,
     "metadata": {},
     "output_type": "execute_result"
    }
   ],
   "source": [
    "goalsScoredPerYearGrp=goalsScoredDF.groupby(lambda Month: Month.split('/')[2])\n",
    "goalsScoredPerYearGrp.mean()"
   ]
  },
  {
   "cell_type": "markdown",
   "metadata": {},
   "source": [
    "<b>Count of months of football for each year</b>"
   ]
  },
  {
   "cell_type": "code",
   "execution_count": 118,
   "metadata": {
    "collapsed": false
   },
   "outputs": [
    {
     "data": {
      "text/html": [
       "<div style=\"max-height:1000px;max-width:1500px;overflow:auto;\">\n",
       "<table border=\"1\" class=\"dataframe\">\n",
       "  <thead>\n",
       "    <tr style=\"text-align: right;\">\n",
       "      <th></th>\n",
       "      <th>EPL</th>\n",
       "      <th>La Liga</th>\n",
       "      <th>Serie A</th>\n",
       "      <th>Bundesliga</th>\n",
       "    </tr>\n",
       "  </thead>\n",
       "  <tbody>\n",
       "    <tr>\n",
       "      <th>2012</th>\n",
       "      <td> 5</td>\n",
       "      <td> 5</td>\n",
       "      <td> 5</td>\n",
       "      <td> 5</td>\n",
       "    </tr>\n",
       "    <tr>\n",
       "      <th>2013</th>\n",
       "      <td> 5</td>\n",
       "      <td> 6</td>\n",
       "      <td> 5</td>\n",
       "      <td> 5</td>\n",
       "    </tr>\n",
       "  </tbody>\n",
       "</table>\n",
       "</div>"
      ],
      "text/plain": [
       "      EPL  La Liga  Serie A  Bundesliga\n",
       "2012    5        5        5           5\n",
       "2013    5        6        5           5"
      ]
     },
     "execution_count": 118,
     "metadata": {},
     "output_type": "execute_result"
    }
   ],
   "source": [
    "goalsScoredPerYearGrp.count()\n"
   ]
  },
  {
   "cell_type": "markdown",
   "metadata": {},
   "source": [
    "<b>Define fill function and fill in missing values</b>"
   ]
  },
  {
   "cell_type": "code",
   "execution_count": 119,
   "metadata": {
    "collapsed": false
   },
   "outputs": [
    {
     "data": {
      "text/html": [
       "<div style=\"max-height:1000px;max-width:1500px;overflow:auto;\">\n",
       "<table border=\"1\" class=\"dataframe\">\n",
       "  <thead>\n",
       "    <tr style=\"text-align: right;\">\n",
       "      <th></th>\n",
       "      <th>EPL</th>\n",
       "      <th>La Liga</th>\n",
       "      <th>Serie A</th>\n",
       "      <th>Bundesliga</th>\n",
       "    </tr>\n",
       "  </thead>\n",
       "  <tbody>\n",
       "    <tr>\n",
       "      <th>2012</th>\n",
       "      <td> 113.4</td>\n",
       "      <td>  97</td>\n",
       "      <td>  99.2</td>\n",
       "      <td> 88.8</td>\n",
       "    </tr>\n",
       "    <tr>\n",
       "      <th>2013</th>\n",
       "      <td>  99.2</td>\n",
       "      <td> 108</td>\n",
       "      <td> 101.4</td>\n",
       "      <td> 90.8</td>\n",
       "    </tr>\n",
       "  </tbody>\n",
       "</table>\n",
       "</div>"
      ],
      "text/plain": [
       "        EPL  La Liga  Serie A  Bundesliga\n",
       "2012  113.4       97     99.2        88.8\n",
       "2013   99.2      108    101.4        90.8"
      ]
     },
     "execution_count": 119,
     "metadata": {},
     "output_type": "execute_result"
    }
   ],
   "source": [
    "fill_fcn = lambda x: x.fillna(x.mean())\n",
    "trans = goalsScoredPerYearGrp.transform(fill_fcn)\n",
    "tGroupedStats = trans.groupby(lambda Month:   Month.split('/')[2])\n",
    "tGroupedStats.mean() \n"
   ]
  },
  {
   "cell_type": "markdown",
   "metadata": {},
   "source": [
    "<b>Display count on filled in data:</b>"
   ]
  },
  {
   "cell_type": "code",
   "execution_count": 120,
   "metadata": {
    "collapsed": false
   },
   "outputs": [
    {
     "data": {
      "text/html": [
       "<div style=\"max-height:1000px;max-width:1500px;overflow:auto;\">\n",
       "<table border=\"1\" class=\"dataframe\">\n",
       "  <thead>\n",
       "    <tr style=\"text-align: right;\">\n",
       "      <th></th>\n",
       "      <th>EPL</th>\n",
       "      <th>La Liga</th>\n",
       "      <th>Serie A</th>\n",
       "      <th>Bundesliga</th>\n",
       "    </tr>\n",
       "  </thead>\n",
       "  <tbody>\n",
       "    <tr>\n",
       "      <th>2012</th>\n",
       "      <td> 5</td>\n",
       "      <td> 5</td>\n",
       "      <td> 5</td>\n",
       "      <td> 5</td>\n",
       "    </tr>\n",
       "    <tr>\n",
       "      <th>2013</th>\n",
       "      <td> 6</td>\n",
       "      <td> 6</td>\n",
       "      <td> 6</td>\n",
       "      <td> 6</td>\n",
       "    </tr>\n",
       "  </tbody>\n",
       "</table>\n",
       "</div>"
      ],
      "text/plain": [
       "      EPL  La Liga  Serie A  Bundesliga\n",
       "2012    5        5        5           5\n",
       "2013    6        6        6           6"
      ]
     },
     "execution_count": 120,
     "metadata": {},
     "output_type": "execute_result"
    }
   ],
   "source": [
    "tGroupedStats.count()"
   ]
  },
  {
   "cell_type": "markdown",
   "metadata": {},
   "source": [
    "<h3>Filtering</h3>"
   ]
  },
  {
   "cell_type": "markdown",
   "metadata": {},
   "source": [
    "<b>Display which months of the season had more than 100 goals scored in each of the 4 leagues </b>"
   ]
  },
  {
   "cell_type": "code",
   "execution_count": 143,
   "metadata": {
    "collapsed": false
   },
   "outputs": [
    {
     "data": {
      "text/html": [
       "<div style=\"max-height:1000px;max-width:1500px;overflow:auto;\">\n",
       "<table border=\"1\" class=\"dataframe\">\n",
       "  <thead>\n",
       "    <tr style=\"text-align: right;\">\n",
       "      <th></th>\n",
       "      <th>Stat</th>\n",
       "      <th>EPL</th>\n",
       "      <th>La Liga</th>\n",
       "      <th>Serie A</th>\n",
       "      <th>Bundesliga</th>\n",
       "    </tr>\n",
       "    <tr>\n",
       "      <th>Month</th>\n",
       "      <th></th>\n",
       "      <th></th>\n",
       "      <th></th>\n",
       "      <th></th>\n",
       "      <th></th>\n",
       "    </tr>\n",
       "  </thead>\n",
       "  <tbody>\n",
       "    <tr>\n",
       "      <th>08/01/2012</th>\n",
       "      <td> GoalsScored</td>\n",
       "      <td>  57</td>\n",
       "      <td>  60</td>\n",
       "      <td>  21</td>\n",
       "      <td>  23</td>\n",
       "    </tr>\n",
       "    <tr>\n",
       "      <th>09/01/2012</th>\n",
       "      <td> GoalsScored</td>\n",
       "      <td> 111</td>\n",
       "      <td> 112</td>\n",
       "      <td> 133</td>\n",
       "      <td> 135</td>\n",
       "    </tr>\n",
       "    <tr>\n",
       "      <th>10/01/2012</th>\n",
       "      <td> GoalsScored</td>\n",
       "      <td>  95</td>\n",
       "      <td>  88</td>\n",
       "      <td>  97</td>\n",
       "      <td>  77</td>\n",
       "    </tr>\n",
       "    <tr>\n",
       "      <th>11/01/2012</th>\n",
       "      <td> GoalsScored</td>\n",
       "      <td> 121</td>\n",
       "      <td> 116</td>\n",
       "      <td> 120</td>\n",
       "      <td> 137</td>\n",
       "    </tr>\n",
       "    <tr>\n",
       "      <th>12/01/2012</th>\n",
       "      <td> GoalsScored</td>\n",
       "      <td> 183</td>\n",
       "      <td> 109</td>\n",
       "      <td> 125</td>\n",
       "      <td>  72</td>\n",
       "    </tr>\n",
       "    <tr>\n",
       "      <th>01/01/2013</th>\n",
       "      <td> GoalsScored</td>\n",
       "      <td> 117</td>\n",
       "      <td> 121</td>\n",
       "      <td> 104</td>\n",
       "      <td>  51</td>\n",
       "    </tr>\n",
       "    <tr>\n",
       "      <th>02/01/2013</th>\n",
       "      <td> GoalsScored</td>\n",
       "      <td>  87</td>\n",
       "      <td> 110</td>\n",
       "      <td> 100</td>\n",
       "      <td> 101</td>\n",
       "    </tr>\n",
       "    <tr>\n",
       "      <th>03/01/2013</th>\n",
       "      <td> GoalsScored</td>\n",
       "      <td>  91</td>\n",
       "      <td> 101</td>\n",
       "      <td>  99</td>\n",
       "      <td> 106</td>\n",
       "    </tr>\n",
       "    <tr>\n",
       "      <th>04/01/2013</th>\n",
       "      <td> GoalsScored</td>\n",
       "      <td> 105</td>\n",
       "      <td> 127</td>\n",
       "      <td> 102</td>\n",
       "      <td> 104</td>\n",
       "    </tr>\n",
       "    <tr>\n",
       "      <th>05/01/2013</th>\n",
       "      <td> GoalsScored</td>\n",
       "      <td>  96</td>\n",
       "      <td> 109</td>\n",
       "      <td> 102</td>\n",
       "      <td>  92</td>\n",
       "    </tr>\n",
       "    <tr>\n",
       "      <th>06/01/2013</th>\n",
       "      <td> GoalsScored</td>\n",
       "      <td> NaN</td>\n",
       "      <td>  80</td>\n",
       "      <td> NaN</td>\n",
       "      <td> NaN</td>\n",
       "    </tr>\n",
       "  </tbody>\n",
       "</table>\n",
       "</div>"
      ],
      "text/plain": [
       "                   Stat  EPL  La Liga  Serie A  Bundesliga\n",
       "Month                                                     \n",
       "08/01/2012  GoalsScored   57       60       21          23\n",
       "09/01/2012  GoalsScored  111      112      133         135\n",
       "10/01/2012  GoalsScored   95       88       97          77\n",
       "11/01/2012  GoalsScored  121      116      120         137\n",
       "12/01/2012  GoalsScored  183      109      125          72\n",
       "01/01/2013  GoalsScored  117      121      104          51\n",
       "02/01/2013  GoalsScored   87      110      100         101\n",
       "03/01/2013  GoalsScored   91      101       99         106\n",
       "04/01/2013  GoalsScored  105      127      102         104\n",
       "05/01/2013  GoalsScored   96      109      102          92\n",
       "06/01/2013  GoalsScored  NaN       80      NaN         NaN"
      ]
     },
     "execution_count": 143,
     "metadata": {},
     "output_type": "execute_result"
    }
   ],
   "source": [
    "#goalsScoredDF=goalsScoredDF.iloc[:,1:]\n",
    "goalsScoredDF"
   ]
  },
  {
   "cell_type": "code",
   "execution_count": 144,
   "metadata": {
    "collapsed": false
   },
   "outputs": [
    {
     "data": {
      "text/html": [
       "<div style=\"max-height:1000px;max-width:1500px;overflow:auto;\">\n",
       "<table border=\"1\" class=\"dataframe\">\n",
       "  <thead>\n",
       "    <tr style=\"text-align: right;\">\n",
       "      <th></th>\n",
       "      <th>Stat</th>\n",
       "      <th>EPL</th>\n",
       "      <th>La Liga</th>\n",
       "      <th>Serie A</th>\n",
       "      <th>Bundesliga</th>\n",
       "    </tr>\n",
       "    <tr>\n",
       "      <th>Month</th>\n",
       "      <th></th>\n",
       "      <th></th>\n",
       "      <th></th>\n",
       "      <th></th>\n",
       "      <th></th>\n",
       "    </tr>\n",
       "  </thead>\n",
       "  <tbody>\n",
       "    <tr>\n",
       "      <th>09/01/2012</th>\n",
       "      <td> GoalsScored</td>\n",
       "      <td> 111</td>\n",
       "      <td> 112</td>\n",
       "      <td> 133</td>\n",
       "      <td> 135</td>\n",
       "    </tr>\n",
       "    <tr>\n",
       "      <th>11/01/2012</th>\n",
       "      <td> GoalsScored</td>\n",
       "      <td> 121</td>\n",
       "      <td> 116</td>\n",
       "      <td> 120</td>\n",
       "      <td> 137</td>\n",
       "    </tr>\n",
       "    <tr>\n",
       "      <th>04/01/2013</th>\n",
       "      <td> GoalsScored</td>\n",
       "      <td> 105</td>\n",
       "      <td> 127</td>\n",
       "      <td> 102</td>\n",
       "      <td> 104</td>\n",
       "    </tr>\n",
       "  </tbody>\n",
       "</table>\n",
       "</div>"
      ],
      "text/plain": [
       "                   Stat  EPL  La Liga  Serie A  Bundesliga\n",
       "Month                                                     \n",
       "09/01/2012  GoalsScored  111      112      133         135\n",
       "11/01/2012  GoalsScored  121      116      120         137\n",
       "04/01/2013  GoalsScored  105      127      102         104"
      ]
     },
     "execution_count": 144,
     "metadata": {},
     "output_type": "execute_result"
    }
   ],
   "source": [
    "goalsScoredDF.groupby(level='Month').filter(lambda x: \n",
    "                                            np.all([x[col] > 100 for col in goalsScoredDF.columns]))"
   ]
  },
  {
   "cell_type": "markdown",
   "metadata": {},
   "source": [
    "<h1>Merging and Joining</h1>\n"
   ]
  },
  {
   "cell_type": "code",
   "execution_count": 145,
   "metadata": {
    "collapsed": false
   },
   "outputs": [
    {
     "data": {
      "text/html": [
       "<div style=\"max-height:1000px;max-width:1500px;overflow:auto;\">\n",
       "<table border=\"1\" class=\"dataframe\">\n",
       "  <thead>\n",
       "    <tr style=\"text-align: right;\">\n",
       "      <th></th>\n",
       "      <th>Closing price</th>\n",
       "      <th>EPS</th>\n",
       "      <th>Shares Outstanding(M)</th>\n",
       "      <th>Beta</th>\n",
       "      <th>P/E</th>\n",
       "      <th>Market Cap(B)</th>\n",
       "    </tr>\n",
       "    <tr>\n",
       "      <th>Symbol</th>\n",
       "      <th></th>\n",
       "      <th></th>\n",
       "      <th></th>\n",
       "      <th></th>\n",
       "      <th></th>\n",
       "      <th></th>\n",
       "    </tr>\n",
       "  </thead>\n",
       "  <tbody>\n",
       "    <tr>\n",
       "      <th>AMZN</th>\n",
       "      <td>  346.15</td>\n",
       "      <td>  0.59</td>\n",
       "      <td>  459.00</td>\n",
       "      <td>  0.52</td>\n",
       "      <td> 589.80</td>\n",
       "      <td> 158.88</td>\n",
       "    </tr>\n",
       "    <tr>\n",
       "      <th>GOOG</th>\n",
       "      <td> 1133.43</td>\n",
       "      <td> 36.05</td>\n",
       "      <td>  335.83</td>\n",
       "      <td>  0.87</td>\n",
       "      <td>  31.44</td>\n",
       "      <td> 380.64</td>\n",
       "    </tr>\n",
       "    <tr>\n",
       "      <th>FB</th>\n",
       "      <td>   61.48</td>\n",
       "      <td>  0.59</td>\n",
       "      <td> 2450.00</td>\n",
       "      <td>   NaN</td>\n",
       "      <td> 104.93</td>\n",
       "      <td> 150.92</td>\n",
       "    </tr>\n",
       "    <tr>\n",
       "      <th>YHOO</th>\n",
       "      <td>   34.90</td>\n",
       "      <td>  1.27</td>\n",
       "      <td> 1010.00</td>\n",
       "      <td> 27.48</td>\n",
       "      <td>   0.66</td>\n",
       "      <td>  35.36</td>\n",
       "    </tr>\n",
       "    <tr>\n",
       "      <th>TWTR</th>\n",
       "      <td>   65.25</td>\n",
       "      <td> -0.30</td>\n",
       "      <td>  555.20</td>\n",
       "      <td>   NaN</td>\n",
       "      <td>    NaN</td>\n",
       "      <td>  36.23</td>\n",
       "    </tr>\n",
       "    <tr>\n",
       "      <th>AAPL</th>\n",
       "      <td>  501.53</td>\n",
       "      <td> 40.32</td>\n",
       "      <td>  892.45</td>\n",
       "      <td> 12.44</td>\n",
       "      <td> 447.59</td>\n",
       "      <td>   0.84</td>\n",
       "    </tr>\n",
       "  </tbody>\n",
       "</table>\n",
       "</div>"
      ],
      "text/plain": [
       "        Closing price    EPS  Shares Outstanding(M)   Beta     P/E  \\\n",
       "Symbol                                                               \n",
       "AMZN           346.15   0.59                 459.00   0.52  589.80   \n",
       "GOOG          1133.43  36.05                 335.83   0.87   31.44   \n",
       "FB              61.48   0.59                2450.00    NaN  104.93   \n",
       "YHOO            34.90   1.27                1010.00  27.48    0.66   \n",
       "TWTR            65.25  -0.30                 555.20    NaN     NaN   \n",
       "AAPL           501.53  40.32                 892.45  12.44  447.59   \n",
       "\n",
       "        Market Cap(B)  \n",
       "Symbol                 \n",
       "AMZN           158.88  \n",
       "GOOG           380.64  \n",
       "FB             150.92  \n",
       "YHOO            35.36  \n",
       "TWTR            36.23  \n",
       "AAPL             0.84  "
      ]
     },
     "execution_count": 145,
     "metadata": {},
     "output_type": "execute_result"
    }
   ],
   "source": [
    "stockDataDF=pd.read_csv('./data/tech_stockprices.csv').set_index(['Symbol']);stockDataDF\n"
   ]
  },
  {
   "cell_type": "markdown",
   "metadata": {},
   "source": [
    "<h3>The concat function</h3>"
   ]
  },
  {
   "cell_type": "markdown",
   "metadata": {},
   "source": [
    "<b>Obtain various slices of the data</b>"
   ]
  },
  {
   "cell_type": "code",
   "execution_count": 146,
   "metadata": {
    "collapsed": false
   },
   "outputs": [
    {
     "data": {
      "text/html": [
       "<div style=\"max-height:1000px;max-width:1500px;overflow:auto;\">\n",
       "<table border=\"1\" class=\"dataframe\">\n",
       "  <thead>\n",
       "    <tr style=\"text-align: right;\">\n",
       "      <th></th>\n",
       "      <th>Closing price</th>\n",
       "      <th>EPS</th>\n",
       "    </tr>\n",
       "    <tr>\n",
       "      <th>Symbol</th>\n",
       "      <th></th>\n",
       "      <th></th>\n",
       "    </tr>\n",
       "  </thead>\n",
       "  <tbody>\n",
       "    <tr>\n",
       "      <th>AMZN</th>\n",
       "      <td>  346.15</td>\n",
       "      <td>  0.59</td>\n",
       "    </tr>\n",
       "    <tr>\n",
       "      <th>GOOG</th>\n",
       "      <td> 1133.43</td>\n",
       "      <td> 36.05</td>\n",
       "    </tr>\n",
       "    <tr>\n",
       "      <th>FB</th>\n",
       "      <td>   61.48</td>\n",
       "      <td>  0.59</td>\n",
       "    </tr>\n",
       "    <tr>\n",
       "      <th>YHOO</th>\n",
       "      <td>   34.90</td>\n",
       "      <td>  1.27</td>\n",
       "    </tr>\n",
       "  </tbody>\n",
       "</table>\n",
       "</div>"
      ],
      "text/plain": [
       "        Closing price    EPS\n",
       "Symbol                      \n",
       "AMZN           346.15   0.59\n",
       "GOOG          1133.43  36.05\n",
       "FB              61.48   0.59\n",
       "YHOO            34.90   1.27"
      ]
     },
     "execution_count": 146,
     "metadata": {},
     "output_type": "execute_result"
    }
   ],
   "source": [
    "A=stockDataDF.ix[:4, ['Closing price', 'EPS']]; A"
   ]
  },
  {
   "cell_type": "code",
   "execution_count": 147,
   "metadata": {
    "collapsed": false
   },
   "outputs": [
    {
     "data": {
      "text/html": [
       "<div style=\"max-height:1000px;max-width:1500px;overflow:auto;\">\n",
       "<table border=\"1\" class=\"dataframe\">\n",
       "  <thead>\n",
       "    <tr style=\"text-align: right;\">\n",
       "      <th></th>\n",
       "      <th>P/E</th>\n",
       "    </tr>\n",
       "    <tr>\n",
       "      <th>Symbol</th>\n",
       "      <th></th>\n",
       "    </tr>\n",
       "  </thead>\n",
       "  <tbody>\n",
       "    <tr>\n",
       "      <th>FB</th>\n",
       "      <td> 104.93</td>\n",
       "    </tr>\n",
       "    <tr>\n",
       "      <th>YHOO</th>\n",
       "      <td>   0.66</td>\n",
       "    </tr>\n",
       "  </tbody>\n",
       "</table>\n",
       "</div>"
      ],
      "text/plain": [
       "           P/E\n",
       "Symbol        \n",
       "FB      104.93\n",
       "YHOO      0.66"
      ]
     },
     "execution_count": 147,
     "metadata": {},
     "output_type": "execute_result"
    }
   ],
   "source": [
    "B=stockDataDF.ix[2:-2, ['P/E']];B"
   ]
  },
  {
   "cell_type": "code",
   "execution_count": 148,
   "metadata": {
    "collapsed": false
   },
   "outputs": [
    {
     "data": {
      "text/html": [
       "<div style=\"max-height:1000px;max-width:1500px;overflow:auto;\">\n",
       "<table border=\"1\" class=\"dataframe\">\n",
       "  <thead>\n",
       "    <tr style=\"text-align: right;\">\n",
       "      <th></th>\n",
       "      <th>Market Cap(B)</th>\n",
       "    </tr>\n",
       "    <tr>\n",
       "      <th>Symbol</th>\n",
       "      <th></th>\n",
       "    </tr>\n",
       "  </thead>\n",
       "  <tbody>\n",
       "    <tr>\n",
       "      <th>GOOG</th>\n",
       "      <td> 380.64</td>\n",
       "    </tr>\n",
       "    <tr>\n",
       "      <th>FB</th>\n",
       "      <td> 150.92</td>\n",
       "    </tr>\n",
       "    <tr>\n",
       "      <th>YHOO</th>\n",
       "      <td>  35.36</td>\n",
       "    </tr>\n",
       "    <tr>\n",
       "      <th>TWTR</th>\n",
       "      <td>  36.23</td>\n",
       "    </tr>\n",
       "  </tbody>\n",
       "</table>\n",
       "</div>"
      ],
      "text/plain": [
       "        Market Cap(B)\n",
       "Symbol               \n",
       "GOOG           380.64\n",
       "FB             150.92\n",
       "YHOO            35.36\n",
       "TWTR            36.23"
      ]
     },
     "execution_count": 148,
     "metadata": {},
     "output_type": "execute_result"
    }
   ],
   "source": [
    "C=stockDataDF.ix[1:5, ['Market Cap(B)']];C"
   ]
  },
  {
   "cell_type": "markdown",
   "metadata": {},
   "source": [
    "<b>Perform concatenation, specifying outer join:</b>"
   ]
  },
  {
   "cell_type": "code",
   "execution_count": 150,
   "metadata": {
    "collapsed": false
   },
   "outputs": [
    {
     "data": {
      "text/html": [
       "<div style=\"max-height:1000px;max-width:1500px;overflow:auto;\">\n",
       "<table border=\"1\" class=\"dataframe\">\n",
       "  <thead>\n",
       "    <tr style=\"text-align: right;\">\n",
       "      <th></th>\n",
       "      <th>Closing price</th>\n",
       "      <th>EPS</th>\n",
       "      <th>P/E</th>\n",
       "      <th>Market Cap(B)</th>\n",
       "    </tr>\n",
       "  </thead>\n",
       "  <tbody>\n",
       "    <tr>\n",
       "      <th>AMZN</th>\n",
       "      <td>  346.15</td>\n",
       "      <td>  0.59</td>\n",
       "      <td>    NaN</td>\n",
       "      <td>    NaN</td>\n",
       "    </tr>\n",
       "    <tr>\n",
       "      <th>FB</th>\n",
       "      <td>   61.48</td>\n",
       "      <td>  0.59</td>\n",
       "      <td> 104.93</td>\n",
       "      <td> 150.92</td>\n",
       "    </tr>\n",
       "    <tr>\n",
       "      <th>GOOG</th>\n",
       "      <td> 1133.43</td>\n",
       "      <td> 36.05</td>\n",
       "      <td>    NaN</td>\n",
       "      <td> 380.64</td>\n",
       "    </tr>\n",
       "    <tr>\n",
       "      <th>TWTR</th>\n",
       "      <td>     NaN</td>\n",
       "      <td>   NaN</td>\n",
       "      <td>    NaN</td>\n",
       "      <td>  36.23</td>\n",
       "    </tr>\n",
       "    <tr>\n",
       "      <th>YHOO</th>\n",
       "      <td>   34.90</td>\n",
       "      <td>  1.27</td>\n",
       "      <td>   0.66</td>\n",
       "      <td>  35.36</td>\n",
       "    </tr>\n",
       "  </tbody>\n",
       "</table>\n",
       "</div>"
      ],
      "text/plain": [
       "      Closing price    EPS     P/E  Market Cap(B)\n",
       "AMZN         346.15   0.59     NaN            NaN\n",
       "FB            61.48   0.59  104.93         150.92\n",
       "GOOG        1133.43  36.05     NaN         380.64\n",
       "TWTR            NaN    NaN     NaN          36.23\n",
       "YHOO          34.90   1.27    0.66          35.36"
      ]
     },
     "execution_count": 150,
     "metadata": {},
     "output_type": "execute_result"
    }
   ],
   "source": [
    "pd.concat([A,B,C],axis=1) # outer join"
   ]
  },
  {
   "cell_type": "markdown",
   "metadata": {},
   "source": [
    "<b>Perform concatenation, specifying inner join:</b>"
   ]
  },
  {
   "cell_type": "code",
   "execution_count": 151,
   "metadata": {
    "collapsed": false
   },
   "outputs": [
    {
     "data": {
      "text/html": [
       "<div style=\"max-height:1000px;max-width:1500px;overflow:auto;\">\n",
       "<table border=\"1\" class=\"dataframe\">\n",
       "  <thead>\n",
       "    <tr style=\"text-align: right;\">\n",
       "      <th></th>\n",
       "      <th>Closing price</th>\n",
       "      <th>EPS</th>\n",
       "      <th>P/E</th>\n",
       "      <th>Market Cap(B)</th>\n",
       "    </tr>\n",
       "    <tr>\n",
       "      <th>Symbol</th>\n",
       "      <th></th>\n",
       "      <th></th>\n",
       "      <th></th>\n",
       "      <th></th>\n",
       "    </tr>\n",
       "  </thead>\n",
       "  <tbody>\n",
       "    <tr>\n",
       "      <th>FB</th>\n",
       "      <td> 61.48</td>\n",
       "      <td> 0.59</td>\n",
       "      <td> 104.93</td>\n",
       "      <td> 150.92</td>\n",
       "    </tr>\n",
       "    <tr>\n",
       "      <th>YHOO</th>\n",
       "      <td> 34.90</td>\n",
       "      <td> 1.27</td>\n",
       "      <td>   0.66</td>\n",
       "      <td>  35.36</td>\n",
       "    </tr>\n",
       "  </tbody>\n",
       "</table>\n",
       "</div>"
      ],
      "text/plain": [
       "        Closing price   EPS     P/E  Market Cap(B)\n",
       "Symbol                                            \n",
       "FB              61.48  0.59  104.93         150.92\n",
       "YHOO            34.90  1.27    0.66          35.36"
      ]
     },
     "execution_count": 151,
     "metadata": {},
     "output_type": "execute_result"
    }
   ],
   "source": [
    "pd.concat([A,B,C],axis=1, join='inner') # Inner join"
   ]
  },
  {
   "cell_type": "markdown",
   "metadata": {},
   "source": [
    "<b>Join on specific index from original DataFrame:</b>"
   ]
  },
  {
   "cell_type": "code",
   "execution_count": 152,
   "metadata": {
    "collapsed": false
   },
   "outputs": [
    {
     "data": {
      "text/html": [
       "<div style=\"max-height:1000px;max-width:1500px;overflow:auto;\">\n",
       "<table border=\"1\" class=\"dataframe\">\n",
       "  <thead>\n",
       "    <tr style=\"text-align: right;\">\n",
       "      <th></th>\n",
       "      <th>Closing price</th>\n",
       "      <th>EPS</th>\n",
       "      <th>P/E</th>\n",
       "      <th>Market Cap(B)</th>\n",
       "    </tr>\n",
       "    <tr>\n",
       "      <th>Symbol</th>\n",
       "      <th></th>\n",
       "      <th></th>\n",
       "      <th></th>\n",
       "      <th></th>\n",
       "    </tr>\n",
       "  </thead>\n",
       "  <tbody>\n",
       "    <tr>\n",
       "      <th>AMZN</th>\n",
       "      <td>  346.15</td>\n",
       "      <td>  0.59</td>\n",
       "      <td>    NaN</td>\n",
       "      <td>    NaN</td>\n",
       "    </tr>\n",
       "    <tr>\n",
       "      <th>GOOG</th>\n",
       "      <td> 1133.43</td>\n",
       "      <td> 36.05</td>\n",
       "      <td>    NaN</td>\n",
       "      <td> 380.64</td>\n",
       "    </tr>\n",
       "    <tr>\n",
       "      <th>FB</th>\n",
       "      <td>   61.48</td>\n",
       "      <td>  0.59</td>\n",
       "      <td> 104.93</td>\n",
       "      <td> 150.92</td>\n",
       "    </tr>\n",
       "    <tr>\n",
       "      <th>YHOO</th>\n",
       "      <td>   34.90</td>\n",
       "      <td>  1.27</td>\n",
       "      <td>   0.66</td>\n",
       "      <td>  35.36</td>\n",
       "    </tr>\n",
       "    <tr>\n",
       "      <th>TWTR</th>\n",
       "      <td>     NaN</td>\n",
       "      <td>   NaN</td>\n",
       "      <td>    NaN</td>\n",
       "      <td>  36.23</td>\n",
       "    </tr>\n",
       "    <tr>\n",
       "      <th>AAPL</th>\n",
       "      <td>     NaN</td>\n",
       "      <td>   NaN</td>\n",
       "      <td>    NaN</td>\n",
       "      <td>    NaN</td>\n",
       "    </tr>\n",
       "  </tbody>\n",
       "</table>\n",
       "</div>"
      ],
      "text/plain": [
       "        Closing price    EPS     P/E  Market Cap(B)\n",
       "Symbol                                             \n",
       "AMZN           346.15   0.59     NaN            NaN\n",
       "GOOG          1133.43  36.05     NaN         380.64\n",
       "FB              61.48   0.59  104.93         150.92\n",
       "YHOO            34.90   1.27    0.66          35.36\n",
       "TWTR              NaN    NaN     NaN          36.23\n",
       "AAPL              NaN    NaN     NaN            NaN"
      ]
     },
     "execution_count": 152,
     "metadata": {},
     "output_type": "execute_result"
    }
   ],
   "source": [
    "pd.concat([A,B,C], axis=1, join_axes=[stockDataDF.index])"
   ]
  },
  {
   "cell_type": "markdown",
   "metadata": {},
   "source": [
    "<b>Another case illustrating concat</b>"
   ]
  },
  {
   "cell_type": "code",
   "execution_count": 153,
   "metadata": {
    "collapsed": false
   },
   "outputs": [
    {
     "data": {
      "text/html": [
       "<div style=\"max-height:1000px;max-width:1500px;overflow:auto;\">\n",
       "<table border=\"1\" class=\"dataframe\">\n",
       "  <thead>\n",
       "    <tr style=\"text-align: right;\">\n",
       "      <th></th>\n",
       "      <th>0</th>\n",
       "      <th>1</th>\n",
       "      <th>2</th>\n",
       "      <th>3</th>\n",
       "    </tr>\n",
       "  </thead>\n",
       "  <tbody>\n",
       "    <tr>\n",
       "      <th>0</th>\n",
       "      <td>-1.749765</td>\n",
       "      <td> 0.342680</td>\n",
       "      <td> 1.153036</td>\n",
       "      <td>-0.252436</td>\n",
       "    </tr>\n",
       "    <tr>\n",
       "      <th>1</th>\n",
       "      <td> 0.981321</td>\n",
       "      <td> 0.514219</td>\n",
       "      <td> 0.221180</td>\n",
       "      <td>-1.070043</td>\n",
       "    </tr>\n",
       "    <tr>\n",
       "      <th>2</th>\n",
       "      <td>-0.189496</td>\n",
       "      <td> 0.255001</td>\n",
       "      <td>-0.458027</td>\n",
       "      <td> 0.435163</td>\n",
       "    </tr>\n",
       "  </tbody>\n",
       "</table>\n",
       "</div>"
      ],
      "text/plain": [
       "          0         1         2         3\n",
       "0 -1.749765  0.342680  1.153036 -0.252436\n",
       "1  0.981321  0.514219  0.221180 -1.070043\n",
       "2 -0.189496  0.255001 -0.458027  0.435163"
      ]
     },
     "execution_count": 153,
     "metadata": {},
     "output_type": "execute_result"
    }
   ],
   "source": [
    "np.random.seed(100)\n",
    "normDF=pd.DataFrame(np.random.randn(3,4));normDF\n"
   ]
  },
  {
   "cell_type": "code",
   "execution_count": 154,
   "metadata": {
    "collapsed": false
   },
   "outputs": [
    {
     "data": {
      "text/html": [
       "<div style=\"max-height:1000px;max-width:1500px;overflow:auto;\">\n",
       "<table border=\"1\" class=\"dataframe\">\n",
       "  <thead>\n",
       "    <tr style=\"text-align: right;\">\n",
       "      <th></th>\n",
       "      <th>0</th>\n",
       "      <th>1</th>\n",
       "      <th>2</th>\n",
       "      <th>3</th>\n",
       "    </tr>\n",
       "  </thead>\n",
       "  <tbody>\n",
       "    <tr>\n",
       "      <th>0</th>\n",
       "      <td> 57</td>\n",
       "      <td> 50</td>\n",
       "      <td> 57</td>\n",
       "      <td> 50</td>\n",
       "    </tr>\n",
       "    <tr>\n",
       "      <th>1</th>\n",
       "      <td> 48</td>\n",
       "      <td> 56</td>\n",
       "      <td> 49</td>\n",
       "      <td> 43</td>\n",
       "    </tr>\n",
       "    <tr>\n",
       "      <th>2</th>\n",
       "      <td> 40</td>\n",
       "      <td> 47</td>\n",
       "      <td> 49</td>\n",
       "      <td> 55</td>\n",
       "    </tr>\n",
       "  </tbody>\n",
       "</table>\n",
       "</div>"
      ],
      "text/plain": [
       "    0   1   2   3\n",
       "0  57  50  57  50\n",
       "1  48  56  49  43\n",
       "2  40  47  49  55"
      ]
     },
     "execution_count": 154,
     "metadata": {},
     "output_type": "execute_result"
    }
   ],
   "source": [
    "binomDF=pd.DataFrame(np.random.binomial(100,0.5,(3,4)));binomDF"
   ]
  },
  {
   "cell_type": "code",
   "execution_count": 155,
   "metadata": {
    "collapsed": false
   },
   "outputs": [
    {
     "data": {
      "text/html": [
       "<div style=\"max-height:1000px;max-width:1500px;overflow:auto;\">\n",
       "<table border=\"1\" class=\"dataframe\">\n",
       "  <thead>\n",
       "    <tr style=\"text-align: right;\">\n",
       "      <th></th>\n",
       "      <th>0</th>\n",
       "      <th>1</th>\n",
       "      <th>2</th>\n",
       "      <th>3</th>\n",
       "    </tr>\n",
       "  </thead>\n",
       "  <tbody>\n",
       "    <tr>\n",
       "      <th>0</th>\n",
       "      <td> 93</td>\n",
       "      <td> 96</td>\n",
       "      <td>  96</td>\n",
       "      <td>  89</td>\n",
       "    </tr>\n",
       "    <tr>\n",
       "      <th>1</th>\n",
       "      <td> 76</td>\n",
       "      <td> 96</td>\n",
       "      <td> 104</td>\n",
       "      <td> 103</td>\n",
       "    </tr>\n",
       "    <tr>\n",
       "      <th>2</th>\n",
       "      <td> 96</td>\n",
       "      <td> 93</td>\n",
       "      <td> 107</td>\n",
       "      <td>  84</td>\n",
       "    </tr>\n",
       "  </tbody>\n",
       "</table>\n",
       "</div>"
      ],
      "text/plain": [
       "    0   1    2    3\n",
       "0  93  96   96   89\n",
       "1  76  96  104  103\n",
       "2  96  93  107   84"
      ]
     },
     "execution_count": 155,
     "metadata": {},
     "output_type": "execute_result"
    }
   ],
   "source": [
    "poissonDF=pd.DataFrame(np.random.poisson(100,(3,4)));poissonDF"
   ]
  },
  {
   "cell_type": "code",
   "execution_count": 156,
   "metadata": {
    "collapsed": true
   },
   "outputs": [],
   "source": [
    "rand_distribs=[normDF,binomDF,poissonDF]"
   ]
  },
  {
   "cell_type": "code",
   "execution_count": 157,
   "metadata": {
    "collapsed": false
   },
   "outputs": [
    {
     "data": {
      "text/html": [
       "<div style=\"max-height:1000px;max-width:1500px;overflow:auto;\">\n",
       "<table border=\"1\" class=\"dataframe\">\n",
       "  <thead>\n",
       "    <tr style=\"text-align: right;\">\n",
       "      <th></th>\n",
       "      <th></th>\n",
       "      <th>0</th>\n",
       "      <th>1</th>\n",
       "      <th>2</th>\n",
       "      <th>3</th>\n",
       "    </tr>\n",
       "  </thead>\n",
       "  <tbody>\n",
       "    <tr>\n",
       "      <th rowspan=\"3\" valign=\"top\">Normal</th>\n",
       "      <th>0</th>\n",
       "      <td> -1.749765</td>\n",
       "      <td>  0.342680</td>\n",
       "      <td>   1.153036</td>\n",
       "      <td>  -0.252436</td>\n",
       "    </tr>\n",
       "    <tr>\n",
       "      <th>1</th>\n",
       "      <td>  0.981321</td>\n",
       "      <td>  0.514219</td>\n",
       "      <td>   0.221180</td>\n",
       "      <td>  -1.070043</td>\n",
       "    </tr>\n",
       "    <tr>\n",
       "      <th>2</th>\n",
       "      <td> -0.189496</td>\n",
       "      <td>  0.255001</td>\n",
       "      <td>  -0.458027</td>\n",
       "      <td>   0.435163</td>\n",
       "    </tr>\n",
       "    <tr>\n",
       "      <th rowspan=\"3\" valign=\"top\">Binomial</th>\n",
       "      <th>0</th>\n",
       "      <td> 57.000000</td>\n",
       "      <td> 50.000000</td>\n",
       "      <td>  57.000000</td>\n",
       "      <td>  50.000000</td>\n",
       "    </tr>\n",
       "    <tr>\n",
       "      <th>1</th>\n",
       "      <td> 48.000000</td>\n",
       "      <td> 56.000000</td>\n",
       "      <td>  49.000000</td>\n",
       "      <td>  43.000000</td>\n",
       "    </tr>\n",
       "    <tr>\n",
       "      <th>2</th>\n",
       "      <td> 40.000000</td>\n",
       "      <td> 47.000000</td>\n",
       "      <td>  49.000000</td>\n",
       "      <td>  55.000000</td>\n",
       "    </tr>\n",
       "    <tr>\n",
       "      <th rowspan=\"3\" valign=\"top\">Poisson</th>\n",
       "      <th>0</th>\n",
       "      <td> 93.000000</td>\n",
       "      <td> 96.000000</td>\n",
       "      <td>  96.000000</td>\n",
       "      <td>  89.000000</td>\n",
       "    </tr>\n",
       "    <tr>\n",
       "      <th>1</th>\n",
       "      <td> 76.000000</td>\n",
       "      <td> 96.000000</td>\n",
       "      <td> 104.000000</td>\n",
       "      <td> 103.000000</td>\n",
       "    </tr>\n",
       "    <tr>\n",
       "      <th>2</th>\n",
       "      <td> 96.000000</td>\n",
       "      <td> 93.000000</td>\n",
       "      <td> 107.000000</td>\n",
       "      <td>  84.000000</td>\n",
       "    </tr>\n",
       "  </tbody>\n",
       "</table>\n",
       "</div>"
      ],
      "text/plain": [
       "                    0          1           2           3\n",
       "Normal   0  -1.749765   0.342680    1.153036   -0.252436\n",
       "         1   0.981321   0.514219    0.221180   -1.070043\n",
       "         2  -0.189496   0.255001   -0.458027    0.435163\n",
       "Binomial 0  57.000000  50.000000   57.000000   50.000000\n",
       "         1  48.000000  56.000000   49.000000   43.000000\n",
       "         2  40.000000  47.000000   49.000000   55.000000\n",
       "Poisson  0  93.000000  96.000000   96.000000   89.000000\n",
       "         1  76.000000  96.000000  104.000000  103.000000\n",
       "         2  96.000000  93.000000  107.000000   84.000000"
      ]
     },
     "execution_count": 157,
     "metadata": {},
     "output_type": "execute_result"
    }
   ],
   "source": [
    "rand_distribsDF=pd.concat(rand_distribs,keys=['Normal', 'Binomial', 'Poisson']);rand_distribsDF"
   ]
  },
  {
   "cell_type": "markdown",
   "metadata": {},
   "source": [
    "<h3>Using append</h3>"
   ]
  },
  {
   "cell_type": "code",
   "execution_count": 158,
   "metadata": {
    "collapsed": false
   },
   "outputs": [
    {
     "data": {
      "text/html": [
       "<div style=\"max-height:1000px;max-width:1500px;overflow:auto;\">\n",
       "<table border=\"1\" class=\"dataframe\">\n",
       "  <thead>\n",
       "    <tr style=\"text-align: right;\">\n",
       "      <th></th>\n",
       "      <th>Closing price</th>\n",
       "      <th>EPS</th>\n",
       "      <th>Shares Outstanding(M)</th>\n",
       "    </tr>\n",
       "    <tr>\n",
       "      <th>Symbol</th>\n",
       "      <th></th>\n",
       "      <th></th>\n",
       "      <th></th>\n",
       "    </tr>\n",
       "  </thead>\n",
       "  <tbody>\n",
       "    <tr>\n",
       "      <th>AMZN</th>\n",
       "      <td>  346.15</td>\n",
       "      <td>  0.59</td>\n",
       "      <td> 459.00</td>\n",
       "    </tr>\n",
       "    <tr>\n",
       "      <th>GOOG</th>\n",
       "      <td> 1133.43</td>\n",
       "      <td> 36.05</td>\n",
       "      <td> 335.83</td>\n",
       "    </tr>\n",
       "  </tbody>\n",
       "</table>\n",
       "</div>"
      ],
      "text/plain": [
       "        Closing price    EPS  Shares Outstanding(M)\n",
       "Symbol                                             \n",
       "AMZN           346.15   0.59                 459.00\n",
       "GOOG          1133.43  36.05                 335.83"
      ]
     },
     "execution_count": 158,
     "metadata": {},
     "output_type": "execute_result"
    }
   ],
   "source": [
    "stockDataA=stockDataDF.ix[:2,:3]\n",
    "stockDataA\n"
   ]
  },
  {
   "cell_type": "code",
   "execution_count": 159,
   "metadata": {
    "collapsed": false
   },
   "outputs": [
    {
     "data": {
      "text/html": [
       "<div style=\"max-height:1000px;max-width:1500px;overflow:auto;\">\n",
       "<table border=\"1\" class=\"dataframe\">\n",
       "  <thead>\n",
       "    <tr style=\"text-align: right;\">\n",
       "      <th></th>\n",
       "      <th>Closing price</th>\n",
       "      <th>EPS</th>\n",
       "      <th>Shares Outstanding(M)</th>\n",
       "      <th>Beta</th>\n",
       "      <th>P/E</th>\n",
       "      <th>Market Cap(B)</th>\n",
       "    </tr>\n",
       "    <tr>\n",
       "      <th>Symbol</th>\n",
       "      <th></th>\n",
       "      <th></th>\n",
       "      <th></th>\n",
       "      <th></th>\n",
       "      <th></th>\n",
       "      <th></th>\n",
       "    </tr>\n",
       "  </thead>\n",
       "  <tbody>\n",
       "    <tr>\n",
       "      <th>FB</th>\n",
       "      <td>  61.48</td>\n",
       "      <td>  0.59</td>\n",
       "      <td> 2450.00</td>\n",
       "      <td>   NaN</td>\n",
       "      <td> 104.93</td>\n",
       "      <td> 150.92</td>\n",
       "    </tr>\n",
       "    <tr>\n",
       "      <th>YHOO</th>\n",
       "      <td>  34.90</td>\n",
       "      <td>  1.27</td>\n",
       "      <td> 1010.00</td>\n",
       "      <td> 27.48</td>\n",
       "      <td>   0.66</td>\n",
       "      <td>  35.36</td>\n",
       "    </tr>\n",
       "    <tr>\n",
       "      <th>TWTR</th>\n",
       "      <td>  65.25</td>\n",
       "      <td> -0.30</td>\n",
       "      <td>  555.20</td>\n",
       "      <td>   NaN</td>\n",
       "      <td>    NaN</td>\n",
       "      <td>  36.23</td>\n",
       "    </tr>\n",
       "    <tr>\n",
       "      <th>AAPL</th>\n",
       "      <td> 501.53</td>\n",
       "      <td> 40.32</td>\n",
       "      <td>  892.45</td>\n",
       "      <td> 12.44</td>\n",
       "      <td> 447.59</td>\n",
       "      <td>   0.84</td>\n",
       "    </tr>\n",
       "  </tbody>\n",
       "</table>\n",
       "</div>"
      ],
      "text/plain": [
       "        Closing price    EPS  Shares Outstanding(M)   Beta     P/E  \\\n",
       "Symbol                                                               \n",
       "FB              61.48   0.59                2450.00    NaN  104.93   \n",
       "YHOO            34.90   1.27                1010.00  27.48    0.66   \n",
       "TWTR            65.25  -0.30                 555.20    NaN     NaN   \n",
       "AAPL           501.53  40.32                 892.45  12.44  447.59   \n",
       "\n",
       "        Market Cap(B)  \n",
       "Symbol                 \n",
       "FB             150.92  \n",
       "YHOO            35.36  \n",
       "TWTR            36.23  \n",
       "AAPL             0.84  "
      ]
     },
     "execution_count": 159,
     "metadata": {},
     "output_type": "execute_result"
    }
   ],
   "source": [
    "stockDataB=stockDataDF[2:]\n",
    "stockDataB\n"
   ]
  },
  {
   "cell_type": "code",
   "execution_count": 161,
   "metadata": {
    "collapsed": false
   },
   "outputs": [
    {
     "data": {
      "text/html": [
       "<div style=\"max-height:1000px;max-width:1500px;overflow:auto;\">\n",
       "<table border=\"1\" class=\"dataframe\">\n",
       "  <thead>\n",
       "    <tr style=\"text-align: right;\">\n",
       "      <th></th>\n",
       "      <th>Beta</th>\n",
       "      <th>Closing price</th>\n",
       "      <th>EPS</th>\n",
       "      <th>Market Cap(B)</th>\n",
       "      <th>P/E</th>\n",
       "      <th>Shares Outstanding(M)</th>\n",
       "    </tr>\n",
       "    <tr>\n",
       "      <th>Symbol</th>\n",
       "      <th></th>\n",
       "      <th></th>\n",
       "      <th></th>\n",
       "      <th></th>\n",
       "      <th></th>\n",
       "      <th></th>\n",
       "    </tr>\n",
       "  </thead>\n",
       "  <tbody>\n",
       "    <tr>\n",
       "      <th>AMZN</th>\n",
       "      <td>   NaN</td>\n",
       "      <td>  346.15</td>\n",
       "      <td>  0.59</td>\n",
       "      <td>    NaN</td>\n",
       "      <td>    NaN</td>\n",
       "      <td>  459.00</td>\n",
       "    </tr>\n",
       "    <tr>\n",
       "      <th>GOOG</th>\n",
       "      <td>   NaN</td>\n",
       "      <td> 1133.43</td>\n",
       "      <td> 36.05</td>\n",
       "      <td>    NaN</td>\n",
       "      <td>    NaN</td>\n",
       "      <td>  335.83</td>\n",
       "    </tr>\n",
       "    <tr>\n",
       "      <th>FB</th>\n",
       "      <td>   NaN</td>\n",
       "      <td>   61.48</td>\n",
       "      <td>  0.59</td>\n",
       "      <td> 150.92</td>\n",
       "      <td> 104.93</td>\n",
       "      <td> 2450.00</td>\n",
       "    </tr>\n",
       "    <tr>\n",
       "      <th>YHOO</th>\n",
       "      <td> 27.48</td>\n",
       "      <td>   34.90</td>\n",
       "      <td>  1.27</td>\n",
       "      <td>  35.36</td>\n",
       "      <td>   0.66</td>\n",
       "      <td> 1010.00</td>\n",
       "    </tr>\n",
       "    <tr>\n",
       "      <th>TWTR</th>\n",
       "      <td>   NaN</td>\n",
       "      <td>   65.25</td>\n",
       "      <td> -0.30</td>\n",
       "      <td>  36.23</td>\n",
       "      <td>    NaN</td>\n",
       "      <td>  555.20</td>\n",
       "    </tr>\n",
       "    <tr>\n",
       "      <th>AAPL</th>\n",
       "      <td> 12.44</td>\n",
       "      <td>  501.53</td>\n",
       "      <td> 40.32</td>\n",
       "      <td>   0.84</td>\n",
       "      <td> 447.59</td>\n",
       "      <td>  892.45</td>\n",
       "    </tr>\n",
       "  </tbody>\n",
       "</table>\n",
       "</div>"
      ],
      "text/plain": [
       "         Beta  Closing price    EPS  Market Cap(B)     P/E  \\\n",
       "Symbol                                                       \n",
       "AMZN      NaN         346.15   0.59            NaN     NaN   \n",
       "GOOG      NaN        1133.43  36.05            NaN     NaN   \n",
       "FB        NaN          61.48   0.59         150.92  104.93   \n",
       "YHOO    27.48          34.90   1.27          35.36    0.66   \n",
       "TWTR      NaN          65.25  -0.30          36.23     NaN   \n",
       "AAPL    12.44         501.53  40.32           0.84  447.59   \n",
       "\n",
       "        Shares Outstanding(M)  \n",
       "Symbol                         \n",
       "AMZN                   459.00  \n",
       "GOOG                   335.83  \n",
       "FB                    2450.00  \n",
       "YHOO                  1010.00  \n",
       "TWTR                   555.20  \n",
       "AAPL                   892.45  "
      ]
     },
     "execution_count": 161,
     "metadata": {},
     "output_type": "execute_result"
    }
   ],
   "source": [
    "stockDataA.append(stockDataB)"
   ]
  },
  {
   "cell_type": "code",
   "execution_count": 160,
   "metadata": {
    "collapsed": false
   },
   "outputs": [
    {
     "data": {
      "text/html": [
       "<div style=\"max-height:1000px;max-width:1500px;overflow:auto;\">\n",
       "<table border=\"1\" class=\"dataframe\">\n",
       "  <thead>\n",
       "    <tr style=\"text-align: right;\">\n",
       "      <th></th>\n",
       "      <th>Closing price</th>\n",
       "      <th>EPS</th>\n",
       "      <th>Shares Outstanding(M)</th>\n",
       "      <th>Beta</th>\n",
       "      <th>P/E</th>\n",
       "      <th>Market Cap(B)</th>\n",
       "    </tr>\n",
       "    <tr>\n",
       "      <th>Symbol</th>\n",
       "      <th></th>\n",
       "      <th></th>\n",
       "      <th></th>\n",
       "      <th></th>\n",
       "      <th></th>\n",
       "      <th></th>\n",
       "    </tr>\n",
       "  </thead>\n",
       "  <tbody>\n",
       "    <tr>\n",
       "      <th>AMZN</th>\n",
       "      <td>  346.15</td>\n",
       "      <td>  0.59</td>\n",
       "      <td>  459.00</td>\n",
       "      <td>   NaN</td>\n",
       "      <td>    NaN</td>\n",
       "      <td>    NaN</td>\n",
       "    </tr>\n",
       "    <tr>\n",
       "      <th>GOOG</th>\n",
       "      <td> 1133.43</td>\n",
       "      <td> 36.05</td>\n",
       "      <td>  335.83</td>\n",
       "      <td>   NaN</td>\n",
       "      <td>    NaN</td>\n",
       "      <td>    NaN</td>\n",
       "    </tr>\n",
       "    <tr>\n",
       "      <th>FB</th>\n",
       "      <td>   61.48</td>\n",
       "      <td>  0.59</td>\n",
       "      <td> 2450.00</td>\n",
       "      <td>   NaN</td>\n",
       "      <td> 104.93</td>\n",
       "      <td> 150.92</td>\n",
       "    </tr>\n",
       "    <tr>\n",
       "      <th>YHOO</th>\n",
       "      <td>   34.90</td>\n",
       "      <td>  1.27</td>\n",
       "      <td> 1010.00</td>\n",
       "      <td> 27.48</td>\n",
       "      <td>   0.66</td>\n",
       "      <td>  35.36</td>\n",
       "    </tr>\n",
       "    <tr>\n",
       "      <th>TWTR</th>\n",
       "      <td>   65.25</td>\n",
       "      <td> -0.30</td>\n",
       "      <td>  555.20</td>\n",
       "      <td>   NaN</td>\n",
       "      <td>    NaN</td>\n",
       "      <td>  36.23</td>\n",
       "    </tr>\n",
       "    <tr>\n",
       "      <th>AAPL</th>\n",
       "      <td>  501.53</td>\n",
       "      <td> 40.32</td>\n",
       "      <td>  892.45</td>\n",
       "      <td> 12.44</td>\n",
       "      <td> 447.59</td>\n",
       "      <td>   0.84</td>\n",
       "    </tr>\n",
       "  </tbody>\n",
       "</table>\n",
       "</div>"
      ],
      "text/plain": [
       "        Closing price    EPS  Shares Outstanding(M)   Beta     P/E  \\\n",
       "Symbol                                                               \n",
       "AMZN           346.15   0.59                 459.00    NaN     NaN   \n",
       "GOOG          1133.43  36.05                 335.83    NaN     NaN   \n",
       "FB              61.48   0.59                2450.00    NaN  104.93   \n",
       "YHOO            34.90   1.27                1010.00  27.48    0.66   \n",
       "TWTR            65.25  -0.30                 555.20    NaN     NaN   \n",
       "AAPL           501.53  40.32                 892.45  12.44  447.59   \n",
       "\n",
       "        Market Cap(B)  \n",
       "Symbol                 \n",
       "AMZN              NaN  \n",
       "GOOG              NaN  \n",
       "FB             150.92  \n",
       "YHOO            35.36  \n",
       "TWTR            36.23  \n",
       "AAPL             0.84  "
      ]
     },
     "execution_count": 160,
     "metadata": {},
     "output_type": "execute_result"
    }
   ],
   "source": [
    "stockDataA.append(stockDataB).reindex_axis(stockDataDF.columns, axis=1)"
   ]
  },
  {
   "cell_type": "markdown",
   "metadata": {},
   "source": [
    "<h3>Appending a single row to a DataFrame</h3>"
   ]
  },
  {
   "cell_type": "code",
   "execution_count": 162,
   "metadata": {
    "collapsed": false
   },
   "outputs": [
    {
     "data": {
      "text/html": [
       "<div style=\"max-height:1000px;max-width:1500px;overflow:auto;\">\n",
       "<table border=\"1\" class=\"dataframe\">\n",
       "  <thead>\n",
       "    <tr style=\"text-align: right;\">\n",
       "      <th></th>\n",
       "      <th>machine learning</th>\n",
       "      <th>search</th>\n",
       "      <th>sorting</th>\n",
       "    </tr>\n",
       "  </thead>\n",
       "  <tbody>\n",
       "    <tr>\n",
       "      <th>0</th>\n",
       "      <td>        RandomForest</td>\n",
       "      <td>           DFS</td>\n",
       "      <td>   Quicksort</td>\n",
       "    </tr>\n",
       "    <tr>\n",
       "      <th>1</th>\n",
       "      <td>  K Nearest Neighbor</td>\n",
       "      <td>           BFS</td>\n",
       "      <td>   Mergesort</td>\n",
       "    </tr>\n",
       "    <tr>\n",
       "      <th>2</th>\n",
       "      <td> Logistic Regression</td>\n",
       "      <td> Binary Search</td>\n",
       "      <td>    Heapsort</td>\n",
       "    </tr>\n",
       "    <tr>\n",
       "      <th>3</th>\n",
       "      <td>  K-Means Clustering</td>\n",
       "      <td>        Linear</td>\n",
       "      <td> Bubble Sort</td>\n",
       "    </tr>\n",
       "  </tbody>\n",
       "</table>\n",
       "</div>"
      ],
      "text/plain": [
       "      machine learning         search      sorting\n",
       "0         RandomForest            DFS    Quicksort\n",
       "1   K Nearest Neighbor            BFS    Mergesort\n",
       "2  Logistic Regression  Binary Search     Heapsort\n",
       "3   K-Means Clustering         Linear  Bubble Sort"
      ]
     },
     "execution_count": 162,
     "metadata": {},
     "output_type": "execute_result"
    }
   ],
   "source": [
    "algos={'search':['DFS','BFS','Binary Search','Linear'],\n",
    "        'sorting': ['Quicksort','Mergesort','Heapsort','Bubble Sort'],\n",
    "       'machine learning':['RandomForest','K Nearest Neighbor','Logistic Regression','K-Means Clustering']}\n",
    "algoDF=pd.DataFrame(algos);algoDF\n",
    "\n"
   ]
  },
  {
   "cell_type": "code",
   "execution_count": 163,
   "metadata": {
    "collapsed": false
   },
   "outputs": [
    {
     "data": {
      "text/html": [
       "<div style=\"max-height:1000px;max-width:1500px;overflow:auto;\">\n",
       "<table border=\"1\" class=\"dataframe\">\n",
       "  <thead>\n",
       "    <tr style=\"text-align: right;\">\n",
       "      <th></th>\n",
       "      <th>machine learning</th>\n",
       "      <th>search</th>\n",
       "      <th>sorting</th>\n",
       "    </tr>\n",
       "  </thead>\n",
       "  <tbody>\n",
       "    <tr>\n",
       "      <th>0</th>\n",
       "      <td>        RandomForest</td>\n",
       "      <td>           DFS</td>\n",
       "      <td>      Quicksort</td>\n",
       "    </tr>\n",
       "    <tr>\n",
       "      <th>1</th>\n",
       "      <td>  K Nearest Neighbor</td>\n",
       "      <td>           BFS</td>\n",
       "      <td>      Mergesort</td>\n",
       "    </tr>\n",
       "    <tr>\n",
       "      <th>2</th>\n",
       "      <td> Logistic Regression</td>\n",
       "      <td> Binary Search</td>\n",
       "      <td>       Heapsort</td>\n",
       "    </tr>\n",
       "    <tr>\n",
       "      <th>3</th>\n",
       "      <td>  K-Means Clustering</td>\n",
       "      <td>        Linear</td>\n",
       "      <td>    Bubble Sort</td>\n",
       "    </tr>\n",
       "    <tr>\n",
       "      <th>4</th>\n",
       "      <td>   Linear Regression</td>\n",
       "      <td>  ShortestPath</td>\n",
       "      <td> Insertion Sort</td>\n",
       "    </tr>\n",
       "  </tbody>\n",
       "</table>\n",
       "</div>"
      ],
      "text/plain": [
       "      machine learning         search         sorting\n",
       "0         RandomForest            DFS       Quicksort\n",
       "1   K Nearest Neighbor            BFS       Mergesort\n",
       "2  Logistic Regression  Binary Search        Heapsort\n",
       "3   K-Means Clustering         Linear     Bubble Sort\n",
       "4    Linear Regression   ShortestPath  Insertion Sort"
      ]
     },
     "execution_count": 163,
     "metadata": {},
     "output_type": "execute_result"
    }
   ],
   "source": [
    "moreAlgos={'search': 'ShortestPath'  , 'sorting': 'Insertion Sort',\n",
    "            'machine learning': 'Linear Regression'}\n",
    "algoDF.append(moreAlgos,ignore_index=True)\n"
   ]
  },
  {
   "cell_type": "markdown",
   "metadata": {},
   "source": [
    "<h2>SQL-Like Merging/Joining of DataFrame objects</h2>"
   ]
  },
  {
   "cell_type": "markdown",
   "metadata": {},
   "source": [
    "<b>Read stock data into DataFrame</b>"
   ]
  },
  {
   "cell_type": "code",
   "execution_count": 164,
   "metadata": {
    "collapsed": false
   },
   "outputs": [
    {
     "data": {
      "text/html": [
       "<div style=\"max-height:1000px;max-width:1500px;overflow:auto;\">\n",
       "<table border=\"1\" class=\"dataframe\">\n",
       "  <thead>\n",
       "    <tr style=\"text-align: right;\">\n",
       "      <th></th>\n",
       "      <th>TradingDate</th>\n",
       "      <th>Nasdaq</th>\n",
       "      <th>S&amp;P 500</th>\n",
       "      <th>Russell 2000</th>\n",
       "      <th>DJIA</th>\n",
       "    </tr>\n",
       "  </thead>\n",
       "  <tbody>\n",
       "    <tr>\n",
       "      <th>0</th>\n",
       "      <td> 2014/01/30</td>\n",
       "      <td> 4123.13</td>\n",
       "      <td> 1794.19</td>\n",
       "      <td> 1139.36</td>\n",
       "      <td> 15848.61</td>\n",
       "    </tr>\n",
       "    <tr>\n",
       "      <th>1</th>\n",
       "      <td> 2014/01/31</td>\n",
       "      <td> 4103.88</td>\n",
       "      <td> 1782.59</td>\n",
       "      <td> 1130.88</td>\n",
       "      <td> 15698.85</td>\n",
       "    </tr>\n",
       "    <tr>\n",
       "      <th>2</th>\n",
       "      <td> 2014/02/03</td>\n",
       "      <td> 3996.96</td>\n",
       "      <td> 1741.89</td>\n",
       "      <td> 1094.58</td>\n",
       "      <td> 15372.80</td>\n",
       "    </tr>\n",
       "    <tr>\n",
       "      <th>3</th>\n",
       "      <td> 2014/02/04</td>\n",
       "      <td> 4031.52</td>\n",
       "      <td> 1755.20</td>\n",
       "      <td> 1102.84</td>\n",
       "      <td> 15445.24</td>\n",
       "    </tr>\n",
       "    <tr>\n",
       "      <th>4</th>\n",
       "      <td> 2014/02/05</td>\n",
       "      <td> 4011.55</td>\n",
       "      <td> 1751.64</td>\n",
       "      <td> 1093.59</td>\n",
       "      <td> 15440.23</td>\n",
       "    </tr>\n",
       "    <tr>\n",
       "      <th>5</th>\n",
       "      <td> 2014/02/06</td>\n",
       "      <td> 4057.12</td>\n",
       "      <td> 1773.43</td>\n",
       "      <td> 1103.93</td>\n",
       "      <td> 15628.53</td>\n",
       "    </tr>\n",
       "  </tbody>\n",
       "</table>\n",
       "</div>"
      ],
      "text/plain": [
       "  TradingDate   Nasdaq  S&P 500  Russell 2000      DJIA\n",
       "0  2014/01/30  4123.13  1794.19       1139.36  15848.61\n",
       "1  2014/01/31  4103.88  1782.59       1130.88  15698.85\n",
       "2  2014/02/03  3996.96  1741.89       1094.58  15372.80\n",
       "3  2014/02/04  4031.52  1755.20       1102.84  15445.24\n",
       "4  2014/02/05  4011.55  1751.64       1093.59  15440.23\n",
       "5  2014/02/06  4057.12  1773.43       1103.93  15628.53"
      ]
     },
     "execution_count": 164,
     "metadata": {},
     "output_type": "execute_result"
    }
   ],
   "source": [
    "USIndexDataDF=pd.read_csv('./data/us_index_data.csv')\n",
    "USIndexDataDF\n"
   ]
  },
  {
   "cell_type": "code",
   "execution_count": null,
   "metadata": {
    "collapsed": true
   },
   "outputs": [],
   "source": []
  }
 ],
 "metadata": {
  "kernelspec": {
   "display_name": "Python 2",
   "language": "python",
   "name": "python2"
  },
  "language_info": {
   "codemirror_mode": {
    "name": "ipython",
    "version": 2
   },
   "file_extension": ".py",
   "mimetype": "text/x-python",
   "name": "python",
   "nbconvert_exporter": "python",
   "pygments_lexer": "ipython2",
   "version": "2.7.9"
  }
 },
 "nbformat": 4,
 "nbformat_minor": 0
}
