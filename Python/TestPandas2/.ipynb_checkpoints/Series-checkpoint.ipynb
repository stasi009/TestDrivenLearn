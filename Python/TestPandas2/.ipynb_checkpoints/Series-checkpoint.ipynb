{
 "cells": [
  {
   "cell_type": "code",
   "execution_count": 2,
   "metadata": {
    "collapsed": false
   },
   "outputs": [
    {
     "name": "stdout",
     "output_type": "stream",
     "text": [
      "Populating the interactive namespace from numpy and matplotlib\n"
     ]
    }
   ],
   "source": [
    "%pylab inline\n",
    "import pandas as pd\n",
    "import numpy as np"
   ]
  },
  {
   "cell_type": "markdown",
   "metadata": {},
   "source": [
    "## Index\n",
    "* [Create](#create)\n",
    "    * [create by passing values and indices](#create_normal)\n",
    "    * [create from a dictionary](#create_from_dict)\n",
    "        * [transform back to dict](#to_dict)\n",
    "        * [use 'get' to avoid KeyError](#safe_get)\n",
    "    * [create with Hierarchical Index](#create_hierarchical)\n",
    "* [Index and Slice](#index_slice)\n",
    "* [Arithmetic](#arithmetic)\n",
    "\n",
    "<a id=\"create\"></a>\n",
    "## Create\n",
    "\n",
    "<a id=\"create_normal\"></a>\n",
    "### create by passing values and indices"
   ]
  },
  {
   "cell_type": "code",
   "execution_count": 3,
   "metadata": {
    "collapsed": false
   },
   "outputs": [
    {
     "data": {
      "text/plain": [
       "d    6\n",
       "a    8\n",
       "c    9\n",
       "b    1\n",
       "dtype: int64"
      ]
     },
     "execution_count": 3,
     "metadata": {},
     "output_type": "execute_result"
    }
   ],
   "source": [
    " # !!!  WON'T sort according to index, values and indices are in the original order when they are passed in\n",
    "s = pd.Series([6,8,9,1],index=[\"d\",\"a\",\"c\",\"b\"])\n",
    "s"
   ]
  },
  {
   "cell_type": "markdown",
   "metadata": {},
   "source": [
    "<a id=\"create_from_dict\"></a>\n",
    "### create by passing a dictionary"
   ]
  },
  {
   "cell_type": "code",
   "execution_count": 4,
   "metadata": {
    "collapsed": false
   },
   "outputs": [
    {
     "data": {
      "text/plain": [
       "a    1.00\n",
       "b    3.14\n",
       "x    6.80\n",
       "y    9.90\n",
       "dtype: float64"
      ]
     },
     "execution_count": 4,
     "metadata": {},
     "output_type": "execute_result"
    }
   ],
   "source": [
    "s = pd.Series({\"y\":9.9,\"x\":6.8,\"a\":1,\"b\":3.14})\n",
    "s # index are reordered"
   ]
  },
  {
   "cell_type": "code",
   "execution_count": 5,
   "metadata": {
    "collapsed": false
   },
   "outputs": [
    {
     "data": {
      "text/plain": [
       "a    1.0\n",
       "x    6.8\n",
       "z    NaN\n",
       "dtype: float64"
      ]
     },
     "execution_count": 5,
     "metadata": {},
     "output_type": "execute_result"
    }
   ],
   "source": [
    "# we can pass in an index, to select subset of the original dictionary and fillna for those missing\n",
    "s = pd.Series({\"y\":9.9,\"x\":6.8,\"a\":1,\"b\":3.14},index=[\"a\",\"x\",\"z\"])\n",
    "s"
   ]
  },
  {
   "cell_type": "markdown",
   "metadata": {},
   "source": [
    "<a id= \"to_dict\"></a>\n",
    "### transform back to a dictionary"
   ]
  },
  {
   "cell_type": "code",
   "execution_count": 6,
   "metadata": {
    "collapsed": false
   },
   "outputs": [
    {
     "data": {
      "text/plain": [
       "{'a': 1.0, 'x': 6.7999999999999998, 'z': nan}"
      ]
     },
     "execution_count": 6,
     "metadata": {},
     "output_type": "execute_result"
    }
   ],
   "source": [
    "s.to_dict()"
   ]
  },
  {
   "cell_type": "markdown",
   "metadata": {},
   "source": [
    "<a id= \"safe_get\"></a>\n",
    "### use get to avoid KeyError"
   ]
  },
  {
   "cell_type": "code",
   "execution_count": 12,
   "metadata": {
    "collapsed": false
   },
   "outputs": [
    {
     "data": {
      "text/plain": [
       "nan"
      ]
     },
     "execution_count": 12,
     "metadata": {},
     "output_type": "execute_result"
    }
   ],
   "source": [
    "s.get(\"xxx\",np.nan)"
   ]
  },
  {
   "cell_type": "markdown",
   "metadata": {},
   "source": [
    "<a id=\"create_hierarchical\"></a>\n",
    "### create series with Hierarchical Index"
   ]
  },
  {
   "cell_type": "code",
   "execution_count": 7,
   "metadata": {
    "collapsed": false
   },
   "outputs": [
    {
     "data": {
      "text/plain": [
       "a  one       1\n",
       "   two       2\n",
       "   three     3\n",
       "b  one       4\n",
       "   two       5\n",
       "   three     6\n",
       "c  one       7\n",
       "   two       8\n",
       "d  two       9\n",
       "   three    10\n",
       "dtype: int32"
      ]
     },
     "execution_count": 7,
     "metadata": {},
     "output_type": "execute_result"
    }
   ],
   "source": [
    "pd.Series(np.arange(1,11),                  \n",
    "          index=[['a', 'a', 'a', 'b', 'b', 'b', 'c', 'c', 'd', 'd'],                        \n",
    "                 [\"one\", \"two\", \"three\", \"one\", \"two\", \"three\",\"one\", \"two\",\"two\", \"three\"]])"
   ]
  },
  {
   "cell_type": "markdown",
   "metadata": {},
   "source": [
    "<a id=\"index_slice\"></a>\n",
    "## Index and Slice"
   ]
  },
  {
   "cell_type": "code",
   "execution_count": 8,
   "metadata": {
    "collapsed": false
   },
   "outputs": [
    {
     "name": "stdout",
     "output_type": "stream",
     "text": [
      "True\n",
      "1.0 9.9\n"
     ]
    }
   ],
   "source": [
    "s = pd.Series({\"y\":9.9,\"x\":6.8,\"a\":1,\"b\":3.14})\n",
    "print \"x\" in s\n",
    "print s[\"a\"],s.y # two ways to access certain element\n",
    "# print s[\"NoSuchKey\"] # access by non-existing key will throw exception"
   ]
  },
  {
   "cell_type": "code",
   "execution_count": 9,
   "metadata": {
    "collapsed": false
   },
   "outputs": [
    {
     "name": "stdout",
     "output_type": "stream",
     "text": [
      "************** whole:\n",
      "a    1.00\n",
      "b    3.14\n",
      "x    6.80\n",
      "y    9.90\n",
      "dtype: float64\n",
      "************** subset by slice:\n",
      "a    1.00\n",
      "b    3.14\n",
      "dtype: float64\n"
     ]
    }
   ],
   "source": [
    "print \"************** whole:\\n\",s\n",
    "print \"************** subset by slice:\\n\",s[:2]"
   ]
  },
  {
   "cell_type": "markdown",
   "metadata": {},
   "source": [
    "<a id=\"arithmetic\"></a>\n",
    "## Arithmetic"
   ]
  },
  {
   "cell_type": "code",
   "execution_count": 10,
   "metadata": {
    "collapsed": false
   },
   "outputs": [
    {
     "data": {
      "text/plain": [
       "a   NaN\n",
       "b     2\n",
       "c     4\n",
       "d     6\n",
       "e   NaN\n",
       "dtype: float64"
      ]
     },
     "execution_count": 10,
     "metadata": {},
     "output_type": "execute_result"
    }
   ],
   "source": [
    "# arithmetic between two series is actually a join operation\n",
    "# by default, it is a outer-join, the result indices are the union of each separate series\n",
    "s1 = pd.Series([0,1,2,3],index=[\"a\",\"b\",\"c\",\"d\"])\n",
    "s2 = pd.Series([1,2,3,4],index=[\"b\",\"c\",\"d\",\"e\"])\n",
    "s1+s2"
   ]
  },
  {
   "cell_type": "code",
   "execution_count": 10,
   "metadata": {
    "collapsed": false
   },
   "outputs": [],
   "source": []
  }
 ],
 "metadata": {
  "kernelspec": {
   "display_name": "Python 2",
   "language": "python",
   "name": "python2"
  },
  "language_info": {
   "codemirror_mode": {
    "name": "ipython",
    "version": 2
   },
   "file_extension": ".py",
   "mimetype": "text/x-python",
   "name": "python",
   "nbconvert_exporter": "python",
   "pygments_lexer": "ipython2",
   "version": "2.7.10"
  }
 },
 "nbformat": 4,
 "nbformat_minor": 0
}
