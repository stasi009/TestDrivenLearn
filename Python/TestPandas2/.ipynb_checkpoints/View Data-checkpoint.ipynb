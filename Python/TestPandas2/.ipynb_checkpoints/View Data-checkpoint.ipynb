{
 "metadata": {
  "name": "",
  "signature": "sha256:487292aca9b470cd850ce62ae52d897183e1479ad352cd5f1f8d7d0d94395f8f"
 },
 "nbformat": 3,
 "nbformat_minor": 0,
 "worksheets": [
  {
   "cells": [
    {
     "cell_type": "code",
     "collapsed": false,
     "input": [
      "%pylab inline\n",
      "from pandas import Series,DataFrame\n",
      "import pandas as pd"
     ],
     "language": "python",
     "metadata": {},
     "outputs": [
      {
       "output_type": "stream",
       "stream": "stdout",
       "text": [
        "Populating the interactive namespace from numpy and matplotlib\n"
       ]
      }
     ],
     "prompt_number": 1
    },
    {
     "cell_type": "code",
     "collapsed": false,
     "input": [
      "data = {'state': ['Ohio', 'Ohio', 'Ohio', 'Nevada', 'Nevada'], \n",
      "        'year': [2000, 2001, 2002, 2001, 2002], \n",
      "        'population': [1.5, 1.7, 3.6, 2.4, 2.9]}\n",
      "frame = DataFrame(data, columns=['year', 'state', 'population', 'debt'], index=['one', 'two', 'three', 'four', 'five'])\n",
      "frame"
     ],
     "language": "python",
     "metadata": {},
     "outputs": [
      {
       "html": [
        "<div style=\"max-height:1000px;max-width:1500px;overflow:auto;\">\n",
        "<table border=\"1\" class=\"dataframe\">\n",
        "  <thead>\n",
        "    <tr style=\"text-align: right;\">\n",
        "      <th></th>\n",
        "      <th>year</th>\n",
        "      <th>state</th>\n",
        "      <th>population</th>\n",
        "      <th>debt</th>\n",
        "    </tr>\n",
        "  </thead>\n",
        "  <tbody>\n",
        "    <tr>\n",
        "      <th>one</th>\n",
        "      <td> 2000</td>\n",
        "      <td>   Ohio</td>\n",
        "      <td> 1.5</td>\n",
        "      <td> NaN</td>\n",
        "    </tr>\n",
        "    <tr>\n",
        "      <th>two</th>\n",
        "      <td> 2001</td>\n",
        "      <td>   Ohio</td>\n",
        "      <td> 1.7</td>\n",
        "      <td> NaN</td>\n",
        "    </tr>\n",
        "    <tr>\n",
        "      <th>three</th>\n",
        "      <td> 2002</td>\n",
        "      <td>   Ohio</td>\n",
        "      <td> 3.6</td>\n",
        "      <td> NaN</td>\n",
        "    </tr>\n",
        "    <tr>\n",
        "      <th>four</th>\n",
        "      <td> 2001</td>\n",
        "      <td> Nevada</td>\n",
        "      <td> 2.4</td>\n",
        "      <td> NaN</td>\n",
        "    </tr>\n",
        "    <tr>\n",
        "      <th>five</th>\n",
        "      <td> 2002</td>\n",
        "      <td> Nevada</td>\n",
        "      <td> 2.9</td>\n",
        "      <td> NaN</td>\n",
        "    </tr>\n",
        "  </tbody>\n",
        "</table>\n",
        "</div>"
       ],
       "metadata": {},
       "output_type": "pyout",
       "prompt_number": 3,
       "text": [
        "       year   state  population debt\n",
        "one    2000    Ohio         1.5  NaN\n",
        "two    2001    Ohio         1.7  NaN\n",
        "three  2002    Ohio         3.6  NaN\n",
        "four   2001  Nevada         2.4  NaN\n",
        "five   2002  Nevada         2.9  NaN"
       ]
      }
     ],
     "prompt_number": 3
    },
    {
     "cell_type": "code",
     "collapsed": false,
     "input": [],
     "language": "python",
     "metadata": {},
     "outputs": []
    }
   ],
   "metadata": {}
  }
 ]
}