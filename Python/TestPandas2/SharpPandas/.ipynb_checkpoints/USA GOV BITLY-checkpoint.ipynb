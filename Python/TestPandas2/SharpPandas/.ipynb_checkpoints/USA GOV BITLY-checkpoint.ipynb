{
 "cells": [
  {
   "cell_type": "code",
   "execution_count": 72,
   "metadata": {
    "collapsed": true
   },
   "outputs": [],
   "source": [
    "import json\n",
    "import logging\n",
    "\n",
    "import numpy as np\n",
    "import pandas as pd\n",
    "import matplotlib.pyplot as plt\n",
    "%matplotlib inline"
   ]
  },
  {
   "cell_type": "code",
   "execution_count": 73,
   "metadata": {
    "collapsed": true
   },
   "outputs": [],
   "source": [
    "path = \"../data/usagov_bitly_data2012-03-16-1331923249.txt\""
   ]
  },
  {
   "cell_type": "code",
   "execution_count": 74,
   "metadata": {
    "collapsed": false
   },
   "outputs": [
    {
     "name": "stdout",
     "output_type": "stream",
     "text": [
      "!!! failed to parse 3407-th row: { \"a\": \"Mozilla\\/0.6 Beta (Windows)\", \"c\": \"PL\", \"nk\": 0, \"tz\": \"Europe\\/Warsaw\", \"gr\": \"86\", \"g\": \"hT2sKJ\", \"h\": \"iaVuBv\", \"l\": \"twitterfeed\", \"hh\": \"1.usa.gov\", \"r\": \"http:\\/\\/1.usa.gov\\/iaVuBv\", \"u\": \"http:\\/\\/www.stripes.com\\/news\\/58-b\n"
     ]
    }
   ],
   "source": [
    "records = []\n",
    "with open(path,\"rt\") as infile:\n",
    "    for index,row in enumerate(infile):\n",
    "        try:\n",
    "            records.append(json.loads(row))\n",
    "            logging.info(\"%d-th row is successfully parsed\",index+1)\n",
    "        except Exception as ex:\n",
    "            print \"!!! failed to parse %d-th row: %s\"%(index+1,row)"
   ]
  },
  {
   "cell_type": "code",
   "execution_count": 75,
   "metadata": {
    "collapsed": false
   },
   "outputs": [],
   "source": [
    "df = pd.DataFrame(records)"
   ]
  },
  {
   "cell_type": "code",
   "execution_count": 76,
   "metadata": {
    "collapsed": true
   },
   "outputs": [],
   "source": [
    "timezones = df[\"tz\"]# it's a view"
   ]
  },
  {
   "cell_type": "code",
   "execution_count": 77,
   "metadata": {
    "collapsed": false
   },
   "outputs": [
    {
     "name": "stdout",
     "output_type": "stream",
     "text": [
      "113 records has no time-zones\n"
     ]
    }
   ],
   "source": [
    "print \"{} records has no time-zones\".format(timezones.isnull().sum())"
   ]
  },
  {
   "cell_type": "code",
   "execution_count": 78,
   "metadata": {
    "collapsed": false
   },
   "outputs": [
    {
     "name": "stdout",
     "output_type": "stream",
     "text": [
      "490 records has empty time-zones\n"
     ]
    }
   ],
   "source": [
    "print \"{} records has empty time-zones\".format((timezones == '').sum())"
   ]
  },
  {
   "cell_type": "code",
   "execution_count": 79,
   "metadata": {
    "collapsed": false
   },
   "outputs": [],
   "source": [
    "clean_timezones = timezones.fillna(\"!!! Missing\")# get a copy\n",
    "clean_timezones[ clean_timezones == \"\" ] = \"!!! Empty\""
   ]
  },
  {
   "cell_type": "code",
   "execution_count": 80,
   "metadata": {
    "collapsed": false
   },
   "outputs": [
    {
     "data": {
      "text/plain": [
       "America/New_York       1211\n",
       "!!! Empty               490\n",
       "America/Chicago         376\n",
       "America/Los_Angeles     368\n",
       "America/Denver          179\n",
       "!!! Missing             113\n",
       "Europe/London            72\n",
       "Asia/Tokyo               37\n",
       "Pacific/Honolulu         35\n",
       "Europe/Madrid            34\n",
       "Name: tz, dtype: int64"
      ]
     },
     "execution_count": 80,
     "metadata": {},
     "output_type": "execute_result"
    }
   ],
   "source": [
    "tz_counts = clean_timezones.value_counts()# by default, value_counts() won't consider NA\n",
    "tz_counts[:10]# already sorted"
   ]
  },
  {
   "cell_type": "code",
   "execution_count": 82,
   "metadata": {
    "collapsed": false
   },
   "outputs": [
    {
     "data": {
      "text/plain": [
       "<matplotlib.axes._subplots.AxesSubplot at 0x11879f690>"
      ]
     },
     "execution_count": 82,
     "metadata": {},
     "output_type": "execute_result"
    },
    {
     "data": {
      "image/png": "[encoded data removed]",
      "text/plain": [
       "<matplotlib.figure.Figure at 0x1183d8e90>"
      ]
     },
     "metadata": {},
     "output_type": "display_data"
    }
   ],
   "source": [
    "tz_counts[:10].plot(kind=\"barh\")"
   ]
  },
  {
   "cell_type": "code",
   "execution_count": null,
   "metadata": {
    "collapsed": true
   },
   "outputs": [],
   "source": []
  }
 ],
 "metadata": {
  "anaconda-cloud": {},
  "kernelspec": {
   "display_name": "Python [Root]",
   "language": "python",
   "name": "Python [Root]"
  },
  "language_info": {
   "codemirror_mode": {
    "name": "ipython",
    "version": 2
   },
   "file_extension": ".py",
   "mimetype": "text/x-python",
   "name": "python",
   "nbconvert_exporter": "python",
   "pygments_lexer": "ipython2",
   "version": "2.7.12"
  }
 },
 "nbformat": 4,
 "nbformat_minor": 0
}
