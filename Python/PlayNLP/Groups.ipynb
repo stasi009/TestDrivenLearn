{
 "cells": [
  {
   "cell_type": "code",
   "execution_count": 2,
   "metadata": {
    "collapsed": true
   },
   "outputs": [],
   "source": [
    "import re"
   ]
  },
  {
   "cell_type": "markdown",
   "metadata": {},
   "source": [
    "### Extract Information"
   ]
  },
  {
   "cell_type": "code",
   "execution_count": 9,
   "metadata": {
    "collapsed": false
   },
   "outputs": [
    {
     "name": "stdout",
     "output_type": "stream",
     "text": [
      "[1] id:   1, code:     a\n",
      "[2] id:  20, code:  baer\n",
      "[3] id:  34, code:  afcr\n"
     ]
    }
   ],
   "source": [
    "pattern = re.compile(r\"(\\d+)-(\\w+)\")\n",
    "for index,match in enumerate(pattern.finditer(r\"1-a\\n20-baer\\n34-afcr\")):\n",
    "    print \"[%d] id: %3s, code: %5s\"%(index+1,match.group(1),match.group(2))"
   ]
  },
  {
   "cell_type": "markdown",
   "metadata": {},
   "source": [
    "### Backreferences"
   ]
  },
  {
   "cell_type": "code",
   "execution_count": 15,
   "metadata": {
    "collapsed": false
   },
   "outputs": [
    {
     "data": {
      "text/plain": [
       "'a-1\\nbaer-20\\nafcr-34'"
      ]
     },
     "execution_count": 15,
     "metadata": {},
     "output_type": "execute_result"
    }
   ],
   "source": [
    "pattern = re.compile(r\"(\\d+)-(\\w+)\")\n",
    "pattern.sub(r\"\\2-\\1\", \"1-a\\n20-baer\\n34-afcr\")"
   ]
  },
  {
   "cell_type": "code",
   "execution_count": 17,
   "metadata": {
    "collapsed": false
   },
   "outputs": [
    {
     "data": {
      "text/plain": [
       "'a-1\\nbaer-20\\nafcr-34'"
      ]
     },
     "execution_count": 17,
     "metadata": {},
     "output_type": "execute_result"
    }
   ],
   "source": [
    "# in order to reference a group by the name in the sub operation, \n",
    "# we have to use \\g<name>.\n",
    "pattern = re.compile(r\"(?P<country>\\d+)-(?P<id>\\w+)\")\n",
    "pattern.sub(r\"\\g<id>-\\g<country>\", \"1-a\\n20-baer\\n34-afcr\")"
   ]
  },
  {
   "cell_type": "markdown",
   "metadata": {},
   "source": [
    "### Named Groups"
   ]
  },
  {
   "cell_type": "code",
   "execution_count": 12,
   "metadata": {
    "collapsed": false
   },
   "outputs": [
    {
     "name": "stdout",
     "output_type": "stream",
     "text": [
      "[first]: Hello\n",
      "[second]: world\n"
     ]
    }
   ],
   "source": [
    "pattern = re.compile(r\"(?P<first>\\w+) (?P<second>\\w+)\")\n",
    "match = pattern.search(\"Hello world\")\n",
    "\n",
    "for key in [\"first\",\"second\"]:\n",
    "    print \"[%s]: %s\"%(key,match.group(key))"
   ]
  },
  {
   "cell_type": "markdown",
   "metadata": {},
   "source": [
    "### Non-capturing groups\n",
    "(?:pattern) will match but not capture. Non-capturing can **save resource**."
   ]
  },
  {
   "cell_type": "code",
   "execution_count": 20,
   "metadata": {
    "collapsed": false
   },
   "outputs": [
    {
     "data": {
      "text/plain": [
       "('ol',)"
      ]
     },
     "execution_count": 20,
     "metadata": {},
     "output_type": "execute_result"
    }
   ],
   "source": [
    "re.search(\"Españ(a|ol)\", \"Español\").groups()"
   ]
  },
  {
   "cell_type": "code",
   "execution_count": 19,
   "metadata": {
    "collapsed": false
   },
   "outputs": [
    {
     "data": {
      "text/plain": [
       "()"
      ]
     },
     "execution_count": 19,
     "metadata": {},
     "output_type": "execute_result"
    }
   ],
   "source": [
    "re.search(\"Españ(?:a|ol)\", \"Español\").groups()"
   ]
  },
  {
   "cell_type": "code",
   "execution_count": null,
   "metadata": {
    "collapsed": true
   },
   "outputs": [],
   "source": []
  }
 ],
 "metadata": {
  "kernelspec": {
   "display_name": "Python 2",
   "language": "python",
   "name": "python2"
  },
  "language_info": {
   "codemirror_mode": {
    "name": "ipython",
    "version": 2
   },
   "file_extension": ".py",
   "mimetype": "text/x-python",
   "name": "python",
   "nbconvert_exporter": "python",
   "pygments_lexer": "ipython2",
   "version": "2.7.11"
  }
 },
 "nbformat": 4,
 "nbformat_minor": 0
}
