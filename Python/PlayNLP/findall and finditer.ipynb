{
 "cells": [
  {
   "cell_type": "code",
   "execution_count": 2,
   "metadata": {
    "collapsed": true
   },
   "outputs": [],
   "source": [
    "import re"
   ]
  },
  {
   "cell_type": "markdown",
   "metadata": {},
   "source": [
    "### findall\n",
    "'match' and 'search' worked with <span style=\"color:red\">**one match at a time**</span>. On the contrary, 'findall' returns <span style=\"color:red\">**a list with all the non-overlapping occurrences**</span> of a pattern and not the MatchObject like search and match do"
   ]
  },
  {
   "cell_type": "code",
   "execution_count": 3,
   "metadata": {
    "collapsed": false
   },
   "outputs": [
    {
     "data": {
      "text/plain": [
       "['hello', 'world']"
      ]
     },
     "execution_count": 3,
     "metadata": {},
     "output_type": "execute_result"
    }
   ],
   "source": [
    "pattern = re.compile(r\"\\w+\")# find all words\n",
    "pattern.findall(\"hello world\")"
   ]
  },
  {
   "cell_type": "markdown",
   "metadata": {},
   "source": [
    "Keep in mind that <span style=\"color:orange\">empty matches</span> are a part of the result. for example, <span style=\"color:orange;font-weight:bold\">\"b\" matches \"a*\", because \"b\" matches \"a repeat 0 times\", and matched result is \"\"(empty string)</span>. due to the same reason, the last invisible character '$' also match \"a repeat 0 times\", and matched result is \"\"."
   ]
  },
  {
   "cell_type": "code",
   "execution_count": 8,
   "metadata": {
    "collapsed": false
   },
   "outputs": [
    {
     "data": {
      "text/plain": [
       "['a', '', 'a', '']"
      ]
     },
     "execution_count": 8,
     "metadata": {},
     "output_type": "execute_result"
    }
   ],
   "source": [
    "pattern = re.compile(r'a*')\n",
    "pattern.findall(\"aba\")"
   ]
  },
  {
   "cell_type": "markdown",
   "metadata": {},
   "source": [
    "In case there are **groups** in the pattern, they are **returned as tuples**. The string is scanned from left to right, so the groups are returned in the same order they are found."
   ]
  },
  {
   "cell_type": "code",
   "execution_count": 10,
   "metadata": {
    "collapsed": false
   },
   "outputs": [
    {
     "data": {
      "text/plain": [
       "[('Hello', 'world'), ('hola', 'mundo')]"
      ]
     },
     "execution_count": 10,
     "metadata": {},
     "output_type": "execute_result"
    }
   ],
   "source": [
    "pattern = re.compile(r\"(\\w+) (\\w+)\")\n",
    "pattern.findall(\"Hello world hola mundo\")"
   ]
  },
  {
   "cell_type": "markdown",
   "metadata": {},
   "source": [
    "### finditer\n",
    "finditer works essentially the same as findall, but it returns an iterator in which each element is a MatchObject"
   ]
  },
  {
   "cell_type": "code",
   "execution_count": 7,
   "metadata": {
    "collapsed": false
   },
   "outputs": [
    {
     "name": "stdout",
     "output_type": "stream",
     "text": [
      "matched groups:  ('Hello', 'world')\n",
      "span:  (0, 11)\n",
      "matched groups:  ('hola', 'mundo')\n",
      "span:  (12, 22)\n"
     ]
    }
   ],
   "source": [
    "pattern = re.compile(r\"(\\w+) (\\w+)\")\n",
    "it = pattern.finditer(\"Hello world hola mundo\")\n",
    "for match in it:\n",
    "    print \"matched groups: \",match.groups()# 'groups' return a tuple with all the sub-groups\n",
    "    print \"span: \",match.span()"
   ]
  },
  {
   "cell_type": "code",
   "execution_count": null,
   "metadata": {
    "collapsed": true
   },
   "outputs": [],
   "source": []
  }
 ],
 "metadata": {
  "kernelspec": {
   "display_name": "Python 2",
   "language": "python",
   "name": "python2"
  },
  "language_info": {
   "codemirror_mode": {
    "name": "ipython",
    "version": 2
   },
   "file_extension": ".py",
   "mimetype": "text/x-python",
   "name": "python",
   "nbconvert_exporter": "python",
   "pygments_lexer": "ipython2",
   "version": "2.7.11"
  }
 },
 "nbformat": 4,
 "nbformat_minor": 0
}
