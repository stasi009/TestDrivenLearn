{
 "cells": [
  {
   "cell_type": "code",
   "execution_count": 1,
   "metadata": {
    "collapsed": true
   },
   "outputs": [],
   "source": [
    "import re"
   ]
  },
  {
   "cell_type": "markdown",
   "metadata": {},
   "source": [
    "### Index\n",
    "* [Split](#Split)\n",
    "* [Substitute](#Substitute)"
   ]
  },
  {
   "cell_type": "markdown",
   "metadata": {},
   "source": [
    "### Split\n",
    "the string is split based on the matches of the pattern"
   ]
  },
  {
   "cell_type": "code",
   "execution_count": 2,
   "metadata": {
    "collapsed": false
   },
   "outputs": [
    {
     "data": {
      "text/plain": [
       "['Beautiful is better than ugly.', 'Explicit is better than implicit.']"
      ]
     },
     "execution_count": 2,
     "metadata": {},
     "output_type": "execute_result"
    }
   ],
   "source": [
    "re.split(r\"\\n\", \"Beautiful is better than ugly.\\nExplicit is better than implicit.\")"
   ]
  },
  {
   "cell_type": "code",
   "execution_count": 3,
   "metadata": {
    "collapsed": false
   },
   "outputs": [
    {
     "name": "stdout",
     "output_type": "stream",
     "text": [
      "hello world : ['hello', 'world']\n",
      "hello*world : ['hello', 'world']\n",
      "hello&world : ['hello', 'world']\n"
     ]
    }
   ],
   "source": [
    "# \\W stands for [^a-zA-Z_0-9]\n",
    "# this same pattern can be used to split a variety of marks\n",
    "pattern = re.compile(r\"\\W\")\n",
    "texts = (\"hello world\",\"hello*world\",\"hello&world\")\n",
    "for txt in texts:\n",
    "    splited = pattern.split(txt)\n",
    "    print txt,\":\",splited"
   ]
  },
  {
   "cell_type": "markdown",
   "metadata": {},
   "source": [
    "The **maxsplit** parameter specifies how many splits can be done at maximum and returns the remaining part in the result"
   ]
  },
  {
   "cell_type": "code",
   "execution_count": 4,
   "metadata": {
    "collapsed": false
   },
   "outputs": [
    {
     "data": {
      "text/plain": [
       "['Beautiful', 'is', 'better than ugly']"
      ]
     },
     "execution_count": 4,
     "metadata": {},
     "output_type": "execute_result"
    }
   ],
   "source": [
    "pattern.split(\"Beautiful is better than ugly\", 2)"
   ]
  },
  {
   "cell_type": "markdown",
   "metadata": {},
   "source": [
    "Normally, the pattern matched is not included. <span style=\"color:blue;font-weight:bold\">Use groups to include the matched pattern in the result</span>"
   ]
  },
  {
   "cell_type": "code",
   "execution_count": 5,
   "metadata": {
    "collapsed": false
   },
   "outputs": [
    {
     "data": {
      "text/plain": [
       "['hello', 'world']"
      ]
     },
     "execution_count": 5,
     "metadata": {},
     "output_type": "execute_result"
    }
   ],
   "source": [
    "re.split(r\"-\",\"hello-world\")# normally the matched pattern isn't included"
   ]
  },
  {
   "cell_type": "code",
   "execution_count": 6,
   "metadata": {
    "collapsed": false
   },
   "outputs": [
    {
     "data": {
      "text/plain": [
       "['hello', '-', 'world']"
      ]
     },
     "execution_count": 6,
     "metadata": {},
     "output_type": "execute_result"
    }
   ],
   "source": [
    "re.split(r\"(-)\",\"hello-world\")# use group to include matched pattern"
   ]
  },
  {
   "cell_type": "markdown",
   "metadata": {
    "collapsed": true
   },
   "source": [
    "### Substitute\n",
    "sub(repl, string, count=0)"
   ]
  },
  {
   "cell_type": "code",
   "execution_count": 9,
   "metadata": {
    "collapsed": false
   },
   "outputs": [
    {
     "data": {
      "text/plain": [
       "'order- order- order-'"
      ]
     },
     "execution_count": 9,
     "metadata": {},
     "output_type": "execute_result"
    }
   ],
   "source": [
    "pattern = re.compile(r\"[0-9]+\")\n",
    "pattern.sub(\"-\", \"order0 order1789 order13\")"
   ]
  },
  {
   "cell_type": "markdown",
   "metadata": {},
   "source": [
    "it replaces the <span style=\"color:blue;font-weight:bold\">leftmost non-overlapping occurrences</span> of the pattern"
   ]
  },
  {
   "cell_type": "code",
   "execution_count": 10,
   "metadata": {
    "collapsed": false
   },
   "outputs": [
    {
     "data": {
      "text/plain": [
       "'order--0'"
      ]
     },
     "execution_count": 10,
     "metadata": {},
     "output_type": "execute_result"
    }
   ],
   "source": [
    "re.sub('00', '-', 'order00000')"
   ]
  },
  {
   "cell_type": "markdown",
   "metadata": {},
   "source": [
    "the first argument of 'sub' can also be a function, which receives a MatchObject and return a string as replacement. \n",
    "\n",
    "For example, imagine you have two kinds of orders. \n",
    "* Some start with a dash, like **-1234**\n",
    "* the others start with a letter, like **A193, B123, C124**\n",
    "\n",
    "you want to change like this:\n",
    "* the ones starting with a dash should start with an A, so **-1234-->A1234**\n",
    "* and the rest should start with a B, so **A193, B123, C124-->B193, B123, B124**"
   ]
  },
  {
   "cell_type": "code",
   "execution_count": 11,
   "metadata": {
    "collapsed": false
   },
   "outputs": [
    {
     "data": {
      "text/plain": [
       "'A1234 B193 B123'"
      ]
     },
     "execution_count": 11,
     "metadata": {},
     "output_type": "execute_result"
    }
   ],
   "source": [
    "def normalize_orders(matchobj):\n",
    "    if matchobj.group() == '-': return \"A\"\n",
    "    else: return \"B\"\n",
    "    \n",
    "re.sub('[-|A-Z]', normalize_orders, '-1234 A193 B123')"
   ]
  },
  {
   "cell_type": "markdown",
   "metadata": {
    "collapsed": true
   },
   "source": [
    "Use <span style=\"color:red;font-weight:bold;font-size:1.2em\">Backreferences</span> in substitution"
   ]
  },
  {
   "cell_type": "code",
   "execution_count": 12,
   "metadata": {
    "collapsed": false
   },
   "outputs": [
    {
     "data": {
      "text/plain": [
       "'a-1\\nbaer-20\\nafcr-34'"
      ]
     },
     "execution_count": 12,
     "metadata": {},
     "output_type": "execute_result"
    }
   ],
   "source": [
    "# reverse each segment\n",
    "pattern = re.compile(r\"(\\d+)-(\\w+)\")\n",
    "pattern.sub(r\"\\2-\\1\", \"1-a\\n20-baer\\n34-afcr\")"
   ]
  },
  {
   "cell_type": "code",
   "execution_count": null,
   "metadata": {
    "collapsed": true
   },
   "outputs": [],
   "source": []
  }
 ],
 "metadata": {
  "anaconda-cloud": {},
  "kernelspec": {
   "display_name": "Python [default]",
   "language": "python",
   "name": "python2"
  },
  "language_info": {
   "codemirror_mode": {
    "name": "ipython",
    "version": 2
   },
   "file_extension": ".py",
   "mimetype": "text/x-python",
   "name": "python",
   "nbconvert_exporter": "python",
   "pygments_lexer": "ipython2",
   "version": "2.7.12"
  }
 },
 "nbformat": 4,
 "nbformat_minor": 0
}
