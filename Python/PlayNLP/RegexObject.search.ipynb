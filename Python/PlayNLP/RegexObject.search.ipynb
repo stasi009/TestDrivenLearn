{
 "cells": [
  {
   "cell_type": "code",
   "execution_count": 11,
   "metadata": {
    "collapsed": true
   },
   "outputs": [],
   "source": [
    "import re"
   ]
  },
  {
   "cell_type": "markdown",
   "metadata": {},
   "source": [
    "Differnt from <span style=\"color:blue\">'match' which only match at the beginning</span>, 'search' tries to match the pattern at <span style=\"color:red\">**any** location of the string and not just at the beginning</span>. If there is a match, it returns a MatchObject."
   ]
  },
  {
   "cell_type": "code",
   "execution_count": 12,
   "metadata": {
    "collapsed": false
   },
   "outputs": [
    {
     "name": "stdout",
     "output_type": "stream",
     "text": [
      "world\n"
     ]
    }
   ],
   "source": [
    "pattern = re.compile(r\"world\")# case sensitive\n",
    "print pattern.search(\"hello world\").group()\n",
    "assert (pattern.search(\"xyz\")) is None"
   ]
  },
  {
   "cell_type": "code",
   "execution_count": 13,
   "metadata": {
    "collapsed": true
   },
   "outputs": [],
   "source": [
    "pattern = re.compile(r\"world\")# case sensitive\n",
    "match = pattern.search(\"hello World\")\n",
    "assert match is None"
   ]
  },
  {
   "cell_type": "markdown",
   "metadata": {},
   "source": [
    "Note when compile with the <span style=\"color:red\">MULTILINE</span> flag, \n",
    "* the ^ symbol <span style=\"color:blue\">search (not match) </span>\n",
    "    * at the **beginning** of the string and \n",
    "    * at the **beginning** of each line\n",
    "* the $ symbol <span style=\"color:blue\">search (not match) </span>\n",
    "    * at the **end** of the string and \n",
    "    * at the **end** of each line"
   ]
  },
  {
   "cell_type": "code",
   "execution_count": 14,
   "metadata": {
    "collapsed": false
   },
   "outputs": [
    {
     "data": {
      "text/plain": [
       "<_sre.SRE_Match at 0x40353d8>"
      ]
     },
     "execution_count": 14,
     "metadata": {},
     "output_type": "execute_result"
    }
   ],
   "source": [
    "pattern = re.compile(r'^<HTML>', re.MULTILINE)\n",
    "pattern.search(\"<HTML>\")"
   ]
  },
  {
   "cell_type": "code",
   "execution_count": 15,
   "metadata": {
    "collapsed": true
   },
   "outputs": [],
   "source": [
    "pattern.search(\" <HTML>\")"
   ]
  },
  {
   "cell_type": "code",
   "execution_count": 16,
   "metadata": {
    "collapsed": false
   },
   "outputs": [
    {
     "data": {
      "text/plain": [
       "<_sre.SRE_Match at 0x40357e8>"
      ]
     },
     "execution_count": 16,
     "metadata": {},
     "output_type": "execute_result"
    }
   ],
   "source": [
    "pattern.search(\"           \\n<HTML>\")"
   ]
  },
  {
   "cell_type": "code",
   "execution_count": 18,
   "metadata": {
    "collapsed": true
   },
   "outputs": [],
   "source": [
    "assert (pattern.match(\"           \\n<HTML>\") ) is None # match only at the beginning"
   ]
  },
  {
   "cell_type": "code",
   "execution_count": null,
   "metadata": {
    "collapsed": true
   },
   "outputs": [],
   "source": []
  }
 ],
 "metadata": {
  "anaconda-cloud": {},
  "kernelspec": {
   "display_name": "Python [default]",
   "language": "python",
   "name": "python2"
  },
  "language_info": {
   "codemirror_mode": {
    "name": "ipython",
    "version": 2
   },
   "file_extension": ".py",
   "mimetype": "text/x-python",
   "name": "python",
   "nbconvert_exporter": "python",
   "pygments_lexer": "ipython2",
   "version": "2.7.12"
  }
 },
 "nbformat": 4,
 "nbformat_minor": 0
}
