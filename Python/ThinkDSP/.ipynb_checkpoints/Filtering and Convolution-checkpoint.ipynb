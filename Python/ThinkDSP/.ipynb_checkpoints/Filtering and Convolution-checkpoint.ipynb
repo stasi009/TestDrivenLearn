{
 "metadata": {
  "name": "",
  "signature": "sha256:4b7c9e702b385864515686206b8a499a76f487dbf6e02a9b0d0753445b95a5d6"
 },
 "nbformat": 3,
 "nbformat_minor": 0,
 "worksheets": [
  {
   "cells": [
    {
     "cell_type": "code",
     "collapsed": false,
     "input": [
      "%pylab inline\n",
      "import numpy as np\n",
      "import pandas as pd\n",
      "import matplotlib.pyplot as plt\n",
      "import thinkdsp\n",
      "import thinkplot"
     ],
     "language": "python",
     "metadata": {},
     "outputs": [
      {
       "output_type": "stream",
       "stream": "stdout",
       "text": [
        "Populating the interactive namespace from numpy and matplotlib\n"
       ]
      }
     ],
     "prompt_number": 28
    },
    {
     "cell_type": "markdown",
     "metadata": {},
     "source": [
      "## Index\n",
      "* [Start from moving average](#moving_average)\n",
      "* [Convolution](#convolution)\n",
      "* [The Convolution Theorem](#convolution_theorem)"
     ]
    },
    {
     "cell_type": "markdown",
     "metadata": {},
     "source": [
      "<a id=\"moving_average\"></a>\n",
      "### Start from moving average\n",
      "not 100% accurate, but we can just think Convolution as a **broad generalization of moving average**"
     ]
    },
    {
     "cell_type": "code",
     "collapsed": false,
     "input": [
      "def zero_pad(array, n):\n",
      "    res = numpy.zeros(n)\n",
      "    res[:len(array)] = array\n",
      "    return res\n",
      "\n",
      "def normalized_window(length):\n",
      "    window = numpy.ones(30)\n",
      "    return window / sum(window)\n",
      "\n",
      "def moving_average(signal,window_length):\n",
      "    N = len(signal)\n",
      "    \n",
      "    window = normalized_window(window_length)\n",
      "    rolled = zero_pad(window,N)\n",
      "    \n",
      "    smoothed = np.empty(N)# hold the result\n",
      "    for i in xrange(N):\n",
      "        smoothed[i] = np.dot(rolled,signal)\n",
      "        # np.roll: Elements that roll beyond the last position are re-introduced at the first.\n",
      "        rolled = numpy.roll(rolled, 1)\n",
      "        \n",
      "    return smoothed"
     ],
     "language": "python",
     "metadata": {},
     "outputs": [],
     "prompt_number": 29
    },
    {
     "cell_type": "code",
     "collapsed": false,
     "input": [
      "# ---------------------- original signal\n",
      "stocks = pd.read_csv(\"stock_px.csv\",usecols=[\"MSFT\"])\n",
      "stocks = stocks.values.flatten()\n",
      "\n",
      "# ---------------------- smoothed by using my moving average\n",
      "window_length = 30\n",
      "smooth_ma = moving_average(stocks,30)\n",
      "\n",
      "# ---------------------- smoothed by using np.convolve\n",
      "window = normalized_window(30)\n",
      "# The mode flag valid indicates that it should only compute values when the window and the wave array overlap completely, \n",
      "# so it stops when the right edge of the window reaches the end of the wave array\n",
      "smooth_convolve = numpy.convolve(stocks, window, mode='valid')\n",
      "\n",
      "# ---------------------- plot\n",
      "thinkplot.preplot(1)\n",
      "thinkplot.plot(stocks, color='0.7', label='daily')\n",
      "thinkplot.plot(smooth_convolve, label='np.convolve',color=\"r\")\n",
      "thinkplot.plot(smooth_ma, label='my moving average')\n",
      "thinkplot.config(loc=\"best\")"
     ],
     "language": "python",
     "metadata": {},
     "outputs": [
      {
       "metadata": {},
       "output_type": "display_data",
       "png": "[encoded data removed]",
       "text": [
        "<matplotlib.figure.Figure at 0x1800fdd8>"
       ]
      }
     ],
     "prompt_number": 30
    },
    {
     "cell_type": "markdown",
     "metadata": {},
     "source": [
      "from above, we can see that, in this case, <span style=\"color:orangered;font-weight:bold;font-size:1.2em\">\"moving average\" and \"convolve a window\" do the same thing</span>."
     ]
    },
    {
     "cell_type": "markdown",
     "metadata": {},
     "source": [
      "<a id=\"convolution\"></a>\n",
      "### Convolution"
     ]
    },
    {
     "cell_type": "markdown",
     "metadata": {},
     "source": [
      "actually, what we did previously is called \"cross-correlation\"\n",
      "$(f \\circ g)[j] = \\sum\\limits_{k = 0}^{N - 1} {f[k]g[k - j]} $\n",
      "\n",
      "if we inverse the index of g (which has the same effect as reversing the elements of g, assuming that negative indices wrap around to the end of the array), then we get **convolution**. \n",
      "\n",
      "<span style=\"color:navy;font-weight:bold;font-size:1.2em\">$(f * g)[j] = \\sum\\limits_{k = 0}^{N - 1} {f[k]g[j - k]} $</span>\n",
      "\n",
      "the whole process is like:\n",
      "1. reverse the right-hand-side signal\n",
      "2. shift\n",
      "3. dot-product\n",
      "\n",
      "Because the moving average window is symmetric, cross-correlation and convolution yield the same result"
     ]
    },
    {
     "cell_type": "markdown",
     "metadata": {},
     "source": [
      "<a id=\"convolution_theorem\"></a>\n",
      "### The Convolution Theorem"
     ]
    },
    {
     "cell_type": "code",
     "collapsed": false,
     "input": [],
     "language": "python",
     "metadata": {},
     "outputs": []
    }
   ],
   "metadata": {}
  }
 ]
}